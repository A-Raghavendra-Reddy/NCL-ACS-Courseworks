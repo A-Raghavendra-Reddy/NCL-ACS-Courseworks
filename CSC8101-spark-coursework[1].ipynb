{
 "cells": [
  {
   "cell_type": "markdown",
   "metadata": {
    "application/vnd.databricks.v1+cell": {
     "cellMetadata": {
      "byteLimit": 2048000,
      "rowLimit": 10000
     },
     "inputWidgets": {},
     "nuid": "7601bf0e-75f1-4b25-97f1-54e1d855bd12",
     "showTitle": false,
     "title": ""
    }
   },
   "source": [
    "# [CSC8101] Engineering for AI - 2024 Spark Coursework"
   ]
  },
  {
   "cell_type": "markdown",
   "metadata": {
    "application/vnd.databricks.v1+cell": {
     "cellMetadata": {},
     "inputWidgets": {},
     "nuid": "5daba5a0-16b1-4242-9996-2efacebc96ff",
     "showTitle": false,
     "title": ""
    }
   },
   "source": [
    "Done by Raghavendra Reddy Andem - 230619823"
   ]
  },
  {
   "cell_type": "markdown",
   "metadata": {
    "application/vnd.databricks.v1+cell": {
     "cellMetadata": {
      "byteLimit": 2048000,
      "rowLimit": 10000
     },
     "inputWidgets": {},
     "nuid": "a451fe1b-c36e-4226-a708-a903f5844f7d",
     "showTitle": false,
     "title": ""
    }
   },
   "source": [
    "## Coursework overview\n",
    "\n",
    "### Inputs\n",
    "\n",
    "- **NYC Taxi Trips dataset** - list of recorded taxi trips, each with several characteristics, namely: distance, number of passengers, origin zone, destination zone and trip cost (total amount charged to customer).\n",
    "- **NYC Zones dataset** - list of zones wherein trips can originate/terminate.\n",
    "\n",
    "### Tasks\n",
    "\n",
    "1. Data cleaning\n",
    "  1. Remove \"0 distance\" and 'no passengers' records.\n",
    "  2. Remove outlier records. \n",
    "2. Add new columns\n",
    "  1. Join with zones dataset\n",
    "  2. Compute the unit profitability of each trip\n",
    "3. Zone summarisation and ranking\n",
    "  1. Summarise trip data per zone\n",
    "  2. Obtain the top 10 ranks according to:\n",
    "    1. The total trip volume\n",
    "    2. Their average profitabilitiy\n",
    "    3. The total passenger volume\n",
    "4. Record the total and task-specific execution times for each dataset size and format.\n",
    "\n",
    "### How to\n",
    "\n",
    "###### Code structure and implementation\n",
    "\n",
    "- You must implement your solution to each task in the provided function code skeleton.\n",
    "- The task-specific functions are combined together to form the full pipeline code, executed last (do not modify this code).\n",
    "- Before implementing the specified function skeleton, you should develop and test your solution on separate code cells (create and destroy cells as needed).\n",
    "\n",
    "###### Development\n",
    "\n",
    "- Develop an initial working solution for the 'S' dataset and only then optimise it for larger dataset sizes.\n",
    "- To perform vectorised operations on a DataFrame:\n",
    "  - use the API docs to look for existing vectorised functions in: https://spark.apache.org/docs/latest/api/python/reference/pyspark.sql/functions.html\n",
    "  - actions to get around the lazy execution of spark: \n",
    "  https://spark.apache.org/docs/latest/rdd-programming-guide.html#actions\n",
    "  - if a customised function is required (e.g. to add a new column based on a linear combination of other columns), implement your own User Defined Function (UDF). See:  https://spark.apache.org/docs/latest/sql-ref-functions-udf-scalar.html\n",
    "- Use only the `pyspark.sql` API - documentation link below - (note that searching through the docs returns results from the `pyspark.sql` API together with the `pyspark.pandas` API):\n",
    "  - https://spark.apache.org/docs/3.2.0/api/python/reference/pyspark.sql.html\n",
    "- Periodically download your notebook to your computer as backup and safety measure against accidental file deletion.\n",
    " \n",
    "###### Execution time measurement\n",
    "\n",
    "- Execution time is calculated and returned by the Spark Engine and shown in the output region of the cell.\n",
    "- To measure the execution time of a task you must perform a `collect` or similar operation (e.g. `take`) on the returned DataFrame."
   ]
  },
  {
   "cell_type": "markdown",
   "metadata": {
    "application/vnd.databricks.v1+cell": {
     "cellMetadata": {
      "byteLimit": 2048000,
      "rowLimit": 10000
     },
     "inputWidgets": {},
     "nuid": "d26c1c73-cac4-4937-8201-4c15cc6be296",
     "showTitle": false,
     "title": ""
    }
   },
   "source": [
    "## Task 0 - Read data\n",
    "\n",
    "The code below is ready to run. **Do not modify this code**. It does the following:\n",
    "\n",
    "- Reads the 'zones' dataset into variable 'zone_names'\n",
    "- Defines the `init_trips` function that allows you to read the 'trips' dataset (from the DBFS FileStore) given the dataset size ('S' to 'XXL') and format ('parquet' or 'delta') as function arguments\n",
    "- Defines the `pipeline` function, called in Task 4 to measure the execution time of the entire data processing pipeline\n",
    "- Shows you how to call the `init_trips` function and display dataset characteristics (number of rows, schema)"
   ]
  },
  {
   "cell_type": "code",
   "execution_count": 0,
   "metadata": {
    "application/vnd.databricks.v1+cell": {
     "cellMetadata": {
      "byteLimit": 2048000,
      "rowLimit": 10000
     },
     "inputWidgets": {},
     "nuid": "57aaebcc-fc2a-4d86-a58e-c1489efeadaf",
     "showTitle": false,
     "title": ""
    }
   },
   "outputs": [],
   "source": [
    "## global imports\n",
    "import pyspark.sql as ps\n",
    "import pyspark.sql.functions as pf\n",
    "import pandas as pd\n",
    "\n",
    "# Load zone names dataset - (much faster to read small file from git than dbfs)\n",
    "zones_file_url = 'https://raw.githubusercontent.com/mutazb999/CSC8101-lab-and-coursework/main/02-assignment-spark/taxi_zone_names.csv'\n",
    "zone_names = spark.createDataFrame(pd.read_csv(zones_file_url))\n",
    "\n",
    "# Function to load trips dataset by selected dataset size\n",
    "def init_trips(size = 'S', data_format = \"parquet\", taxi_folder = \"/FileStore/tables/taxi\"):     \n",
    "    \n",
    "    files = {\n",
    "        'S'  : ['2021_07'],\n",
    "        'M'  : ['2021'],\n",
    "        'L'  : ['2020_21'], \n",
    "        'XL' : ['1_6_2019', '7_12_2019'],\n",
    "        'XXL': ['1_6_2019', '7_12_2019', '2020_21']\n",
    "    }\n",
    "    \n",
    "    # validate input dataset size\n",
    "    if size not in files.keys():\n",
    "        print(\"Invalid input dataset size. Must be one of {}\".format(list(files.keys())))\n",
    "        return None               \n",
    "    \n",
    "    if data_format == \"parquet\":\n",
    "        filenames = list(map(lambda s: f'{taxi_folder}/parquet/tripdata_{s}.parquet', files[size]))\n",
    "        trips_df = spark.read.parquet(filenames[0])\n",
    "        \n",
    "        for name in filenames[1:]:\n",
    "            trips_df = trips_df.union(spark.read.parquet(name))\n",
    "            \n",
    "    elif data_format == \"delta\":\n",
    "        filenames = f\"{taxi_folder}/delta/taxi-{size}-delta/\"\n",
    "        trips_df = spark.read.format(\"delta\").load(filenames)\n",
    "    \n",
    "    else:\n",
    "        print(\"Invalid data format. Must be one of {}\".format(['parquet', 'delta']))\n",
    "        return None\n",
    "        \n",
    "    print(\n",
    "    \"\"\"\n",
    "    Trips dataset loaded!\n",
    "    ---\n",
    "      Size: {s}\n",
    "      Format: {f}\n",
    "      Tables loaded: {ds}\n",
    "      Number of trips (dataset rows): {tc:,}\n",
    "    \"\"\".format(s = size, f = data_format, ds = filenames, tc = trips_df.count()))\n",
    "    \n",
    "    return trips_df\n",
    "\n",
    "# helper function to print dataset row count\n",
    "def print_count(df):\n",
    "    print(\"Row count: {t:,}\".format(t = df.count()))\n",
    "\n",
    "def pipeline(trips_df, with_task_12 = False, zones_df = zone_names):\n",
    "    # Do not edit\n",
    "    #---\n",
    "\n",
    "    ## Task 1.1\n",
    "    _trips_11 = t11_remove_zeros(trips_df)\n",
    "\n",
    "    ## Task 1.2\n",
    "    if with_task_12:\n",
    "        _trips_12 = t12_remove_outliers(_trips_11)\n",
    "    else:\n",
    "        _trips_12 = _trips_11\n",
    "\n",
    "    ## Task 2.1\n",
    "    _trips_21 = t21_join_zones(_trips_12, zones_df = zone_names)\n",
    "\n",
    "    ## Task 2.2\n",
    "    _trips_22 = t22_calc_profit(_trips_21)\n",
    "\n",
    "    ## Task 3.1\n",
    "    _graph = t31_summarise_trips(_trips_22)\n",
    "\n",
    "    ## Task 3.2\n",
    "    _zones = t32_summarise_zones_pairs(_graph)\n",
    "\n",
    "    _top10_trips     = t32_top10_trips(_zones)\n",
    "    _top10_profit    = t32_top10_profit(_zones)\n",
    "    _top10_passenger = t32_top10_passenger(_zones)\n",
    "    \n",
    "    return([_top10_trips, _top10_profit, _top10_passenger])"
   ]
  },
  {
   "cell_type": "code",
   "execution_count": 0,
   "metadata": {
    "application/vnd.databricks.v1+cell": {
     "cellMetadata": {
      "byteLimit": 2048000,
      "rowLimit": 10000
     },
     "inputWidgets": {},
     "nuid": "490ab841-fd73-4466-a6e7-5121395deca9",
     "showTitle": false,
     "title": ""
    }
   },
   "outputs": [
    {
     "output_type": "stream",
     "name": "stdout",
     "output_type": "stream",
     "text": [
      "\n    Trips dataset loaded!\n    ---\n      Size: S\n      Format: parquet\n      Tables loaded: ['/FileStore/tables/taxi/parquet/tripdata_2021_07.parquet']\n      Number of trips (dataset rows): 2,898,033\n    \n"
     ]
    }
   ],
   "source": [
    "# CHANGE the value of argument 'size' to record the pipeline execution times for increasing dataset sizes\n",
    "SIZE = 'S'\n",
    "DATA_FORMAT = 'parquet'\n",
    "\n",
    "# Load trips dataset\n",
    "trips = init_trips(SIZE, DATA_FORMAT)\n",
    "\n",
    "# uncomment line only for small datasets\n",
    "# trips.take(1)"
   ]
  },
  {
   "cell_type": "code",
   "execution_count": 0,
   "metadata": {
    "application/vnd.databricks.v1+cell": {
     "cellMetadata": {
      "byteLimit": 2048000,
      "rowLimit": 10000
     },
     "inputWidgets": {},
     "nuid": "92da0d12-33a0-4df0-b1d2-607ebb65d948",
     "showTitle": false,
     "title": ""
    }
   },
   "outputs": [
    {
     "output_type": "stream",
     "name": "stdout",
     "output_type": "stream",
     "text": [
      "Row count: 2,898,033\n"
     ]
    }
   ],
   "source": [
    "print_count(trips)"
   ]
  },
  {
   "cell_type": "code",
   "execution_count": 0,
   "metadata": {
    "application/vnd.databricks.v1+cell": {
     "cellMetadata": {
      "byteLimit": 2048000,
      "rowLimit": 10000
     },
     "inputWidgets": {},
     "nuid": "490e67f7-4457-4bd5-b89a-a6d24c5645d5",
     "showTitle": false,
     "title": ""
    }
   },
   "outputs": [
    {
     "output_type": "stream",
     "name": "stdout",
     "output_type": "stream",
     "text": [
      "root\n |-- index: long (nullable = true)\n |-- VendorID: double (nullable = true)\n |-- tpep_pickup_datetime: string (nullable = true)\n |-- tpep_dropoff_datetime: string (nullable = true)\n |-- passenger_count: double (nullable = true)\n |-- trip_distance: double (nullable = true)\n |-- RatecodeID: double (nullable = true)\n |-- store_and_fwd_flag: string (nullable = true)\n |-- PULocationID: long (nullable = true)\n |-- DOLocationID: long (nullable = true)\n |-- payment_type: double (nullable = true)\n |-- fare_amount: double (nullable = true)\n |-- extra: double (nullable = true)\n |-- mta_tax: double (nullable = true)\n |-- tip_amount: double (nullable = true)\n |-- tolls_amount: double (nullable = true)\n |-- improvement_surcharge: double (nullable = true)\n |-- total_amount: double (nullable = true)\n |-- congestion_surcharge: double (nullable = true)\n |-- cab_type: string (nullable = true)\n |-- lpep_pickup_datetime: string (nullable = true)\n |-- lpep_dropoff_datetime: string (nullable = true)\n |-- ehail_fee: double (nullable = true)\n |-- trip_type: double (nullable = true)\n\n"
     ]
    }
   ],
   "source": [
    "# dataset schemas\n",
    "trips.printSchema()"
   ]
  },
  {
   "cell_type": "code",
   "execution_count": 0,
   "metadata": {
    "application/vnd.databricks.v1+cell": {
     "cellMetadata": {
      "byteLimit": 2048000,
      "rowLimit": 10000
     },
     "inputWidgets": {},
     "nuid": "5e2ab160-b9b8-4c4a-bb70-fc3197bae230",
     "showTitle": false,
     "title": ""
    }
   },
   "outputs": [
    {
     "output_type": "display_data",
     "data": {
      "text/html": [
       "<style scoped>\n",
       "  .table-result-container {\n",
       "    max-height: 300px;\n",
       "    overflow: auto;\n",
       "  }\n",
       "  table, th, td {\n",
       "    border: 1px solid black;\n",
       "    border-collapse: collapse;\n",
       "  }\n",
       "  th, td {\n",
       "    padding: 5px;\n",
       "  }\n",
       "  th {\n",
       "    text-align: left;\n",
       "  }\n",
       "</style><div class='table-result-container'><table class='table-result'><thead style='background-color: white'><tr><th>PULocationID</th><th>DOLocationID</th><th>trip_distance</th><th>passenger_count</th><th>total_amount</th></tr></thead><tbody><tr><td>90</td><td>68</td><td>0.8</td><td>1.0</td><td>8.8</td></tr><tr><td>113</td><td>90</td><td>0.9</td><td>1.0</td><td>8.8</td></tr><tr><td>88</td><td>232</td><td>2.8</td><td>1.0</td><td>13.8</td></tr><tr><td>79</td><td>249</td><td>1.4</td><td>1.0</td><td>12.3</td></tr><tr><td>142</td><td>238</td><td>2.0</td><td>0.0</td><td>12.3</td></tr></tbody></table></div>"
      ]
     },
     "metadata": {
      "application/vnd.databricks.v1+output": {
       "addedWidgets": {},
       "aggData": [],
       "aggError": "",
       "aggOverflow": false,
       "aggSchema": [],
       "aggSeriesLimitReached": false,
       "aggType": "",
       "arguments": {},
       "columnCustomDisplayInfos": {},
       "data": [
        [
         90,
         68,
         0.8,
         1.0,
         8.8
        ],
        [
         113,
         90,
         0.9,
         1.0,
         8.8
        ],
        [
         88,
         232,
         2.8,
         1.0,
         13.8
        ],
        [
         79,
         249,
         1.4,
         1.0,
         12.3
        ],
        [
         142,
         238,
         2.0,
         0.0,
         12.3
        ]
       ],
       "datasetInfos": [],
       "dbfsResultPath": null,
       "isJsonSchema": true,
       "metadata": {},
       "overflow": false,
       "plotOptions": {
        "customPlotOptions": {},
        "displayType": "table",
        "pivotAggregation": null,
        "pivotColumns": null,
        "xColumns": null,
        "yColumns": null
       },
       "removedWidgets": [],
       "schema": [
        {
         "metadata": "{}",
         "name": "PULocationID",
         "type": "\"long\""
        },
        {
         "metadata": "{}",
         "name": "DOLocationID",
         "type": "\"long\""
        },
        {
         "metadata": "{}",
         "name": "trip_distance",
         "type": "\"double\""
        },
        {
         "metadata": "{}",
         "name": "passenger_count",
         "type": "\"double\""
        },
        {
         "metadata": "{}",
         "name": "total_amount",
         "type": "\"double\""
        }
       ],
       "type": "table"
      }
     },
     "output_type": "display_data"
    }
   ],
   "source": [
    "display(trips[['PULocationID', 'DOLocationID', 'trip_distance', 'passenger_count', 'total_amount']].take(5))"
   ]
  },
  {
   "cell_type": "code",
   "execution_count": 0,
   "metadata": {
    "application/vnd.databricks.v1+cell": {
     "cellMetadata": {
      "byteLimit": 2048000,
      "rowLimit": 10000
     },
     "inputWidgets": {},
     "nuid": "eee4451c-b49a-42a6-b87e-81aad4144cf1",
     "showTitle": false,
     "title": ""
    }
   },
   "outputs": [
    {
     "output_type": "stream",
     "name": "stdout",
     "output_type": "stream",
     "text": [
      "root\n |-- LocationID: long (nullable = true)\n |-- Borough: string (nullable = true)\n |-- Zone: string (nullable = true)\n |-- service_zone: string (nullable = true)\n\n"
     ]
    }
   ],
   "source": [
    "zone_names.printSchema()"
   ]
  },
  {
   "cell_type": "code",
   "execution_count": 0,
   "metadata": {
    "application/vnd.databricks.v1+cell": {
     "cellMetadata": {
      "byteLimit": 2048000,
      "rowLimit": 10000
     },
     "inputWidgets": {},
     "nuid": "8a1ed0a0-0621-471d-8332-d47b52f71817",
     "showTitle": false,
     "title": ""
    }
   },
   "outputs": [
    {
     "output_type": "display_data",
     "data": {
      "text/html": [
       "<style scoped>\n",
       "  .table-result-container {\n",
       "    max-height: 300px;\n",
       "    overflow: auto;\n",
       "  }\n",
       "  table, th, td {\n",
       "    border: 1px solid black;\n",
       "    border-collapse: collapse;\n",
       "  }\n",
       "  th, td {\n",
       "    padding: 5px;\n",
       "  }\n",
       "  th {\n",
       "    text-align: left;\n",
       "  }\n",
       "</style><div class='table-result-container'><table class='table-result'><thead style='background-color: white'><tr><th>LocationID</th><th>Borough</th><th>Zone</th><th>service_zone</th></tr></thead><tbody><tr><td>1</td><td>EWR</td><td>Newark Airport</td><td>EWR</td></tr><tr><td>2</td><td>Queens</td><td>Jamaica Bay</td><td>Boro Zone</td></tr><tr><td>3</td><td>Bronx</td><td>Allerton/Pelham Gardens</td><td>Boro Zone</td></tr><tr><td>4</td><td>Manhattan</td><td>Alphabet City</td><td>Yellow Zone</td></tr><tr><td>5</td><td>Staten Island</td><td>Arden Heights</td><td>Boro Zone</td></tr></tbody></table></div>"
      ]
     },
     "metadata": {
      "application/vnd.databricks.v1+output": {
       "addedWidgets": {},
       "aggData": [],
       "aggError": "",
       "aggOverflow": false,
       "aggSchema": [],
       "aggSeriesLimitReached": false,
       "aggType": "",
       "arguments": {},
       "columnCustomDisplayInfos": {},
       "data": [
        [
         1,
         "EWR",
         "Newark Airport",
         "EWR"
        ],
        [
         2,
         "Queens",
         "Jamaica Bay",
         "Boro Zone"
        ],
        [
         3,
         "Bronx",
         "Allerton/Pelham Gardens",
         "Boro Zone"
        ],
        [
         4,
         "Manhattan",
         "Alphabet City",
         "Yellow Zone"
        ],
        [
         5,
         "Staten Island",
         "Arden Heights",
         "Boro Zone"
        ]
       ],
       "datasetInfos": [],
       "dbfsResultPath": null,
       "isJsonSchema": true,
       "metadata": {},
       "overflow": false,
       "plotOptions": {
        "customPlotOptions": {},
        "displayType": "table",
        "pivotAggregation": null,
        "pivotColumns": null,
        "xColumns": null,
        "yColumns": null
       },
       "removedWidgets": [],
       "schema": [
        {
         "metadata": "{}",
         "name": "LocationID",
         "type": "\"long\""
        },
        {
         "metadata": "{}",
         "name": "Borough",
         "type": "\"string\""
        },
        {
         "metadata": "{}",
         "name": "Zone",
         "type": "\"string\""
        },
        {
         "metadata": "{}",
         "name": "service_zone",
         "type": "\"string\""
        }
       ],
       "type": "table"
      }
     },
     "output_type": "display_data"
    }
   ],
   "source": [
    "display(zone_names.take(5))"
   ]
  },
  {
   "cell_type": "markdown",
   "metadata": {
    "application/vnd.databricks.v1+cell": {
     "cellMetadata": {
      "byteLimit": 2048000,
      "rowLimit": 10000
     },
     "inputWidgets": {},
     "nuid": "99294dd5-92b7-4e50-9623-d00d82da993b",
     "showTitle": false,
     "title": ""
    }
   },
   "source": [
    "## Task 1 - Filter rows\n",
    "\n",
    "**Input:** trips dataset\n",
    "\n",
    "### Task 1.1 - Remove \"0 distance\" and 'no passengers' records\n",
    "\n",
    "Remove dataset rows that represent invalid trips:\n",
    "\n",
    "- Trips where `trip_distance == 0` (no distance travelled)\n",
    "- Trips where `passenger_count == 0` and `total_amount == 0` (we want to retain records where `total_amount` > 0 - these may be significant as the taxi may have carried some parcel, for example)\n",
    "\n",
    "Altogether, a record is removed if it satisfies the following conditions:\n",
    "\n",
    "`trip_distance == 0` or `(passenger_count == 0` and `total_amount == 0)`.\n",
    "\n",
    "**Recommended:** Select only the relevant dataset columns for this and subsequent tasks: `['PULocationID', 'DOLocationID', 'trip_distance', 'passenger_count', 'total_amount')]`\n",
    "\n",
    "### Task 1.2 - Remove outliers using the modified z-score\n",
    "\n",
    "Despite having removed spurious \"zero passengers\" trips in task 1.1, columns `total_amount` and `trip_distance` contain additional outlier values that must be identified and removed.\n",
    "\n",
    "To identify and remove outliers, you will use the modified [z-score](https://en.wikipedia.org/wiki/Standard_score) method.\n",
    "The modified z-score uses the median and [Median Absolute Deviation](https://en.wikipedia.org/wiki/Median_absolute_deviation) (MAD), instead of the mean and standard deviation, to determine how far an observation (indexed by i) is from the mean:\n",
    "\n",
    "$$z_i = \\frac{x_i - \\mathit{median}(\\mathbf{x})}{\\mathbf{MAD}},$$\n",
    "\n",
    "where x represents the input vector, xi is an element of x and zi is its corresponding z-score. In turn, the MAD formula is:\n",
    "\n",
    "$$\\mathbf{MAD} = 1.483 * \\mathit{median}(\\big\\lvert x_i - \\mathit{median}(\\mathbf{x})\\big\\rvert).$$\n",
    "\n",
    "Observations with **high** (absolute) z-score are considered outlier observations. A score is considered **high** if its __absolute z-score__ is larger than a threshold T = 3.5:\n",
    "\n",
    "$$\\big\\lvert z_i \\big\\rvert > 3.5.$$\n",
    "\n",
    "where T represents the number of unit standard deviations beyond which a score is considered an outlier ([wiki](https://en.wikipedia.org/wiki/68%E2%80%9395%E2%80%9399.7_rule)).\n",
    "\n",
    "This process is repeated twice, once for each of the columns `total_amount` and `trip_distance` (in any order).\n",
    "\n",
    "**Important:** Use the surrogate function [`percentile_approx`](https://spark.apache.org/docs/3.2.0/api/python/reference/api/pyspark.sql.functions.percentile_approx.html?highlight=percentile#pyspark.sql.functions.percentile_approx) to estimate the median (calculating the median values for a column is expensive as it cannot be parallelised efficiently)."
   ]
  },
  {
   "cell_type": "code",
   "execution_count": 0,
   "metadata": {
    "application/vnd.databricks.v1+cell": {
     "cellMetadata": {
      "byteLimit": 2048000,
      "rowLimit": 10000
     },
     "inputWidgets": {},
     "nuid": "b53021ef-a0ab-43be-8885-142617707a5c",
     "showTitle": false,
     "title": ""
    }
   },
   "outputs": [],
   "source": [
    "# develop your solution here (create/destroy cells as needed) and then implement it in the functions below"
   ]
  },
  {
   "cell_type": "code",
   "execution_count": 0,
   "metadata": {
    "application/vnd.databricks.v1+cell": {
     "cellMetadata": {
      "byteLimit": 2048000,
      "rowLimit": 10000
     },
     "inputWidgets": {},
     "nuid": "2d792168-797a-4b32-8a04-58c835f8010b",
     "showTitle": false,
     "title": ""
    }
   },
   "outputs": [],
   "source": [
    "import pyspark.sql.functions as F\n",
    "\n",
    "def t11_remove_zeros(df):\n",
    "    # Selecting specific columns from the DataFrame\n",
    "    df = df.select(\"PULocationID\", \"DOLocationID\", \"trip_distance\", \"passenger_count\", \"total_amount\")\n",
    "    # Filtering out rows where trip_distance is zero or both passenger_count and total_amount are zero\n",
    "    df_new = df.filter(~((df.trip_distance == 0) | (df.passenger_count == 0) & (df.total_amount == 0)))\n",
    "    \n",
    "    return df_new\n"
   ]
  },
  {
   "cell_type": "markdown",
   "metadata": {
    "application/vnd.databricks.v1+cell": {
     "cellMetadata": {
      "byteLimit": 2048000,
      "rowLimit": 10000
     },
     "inputWidgets": {},
     "nuid": "abbe5496-2319-482a-8cf5-0040a81ae9a2",
     "showTitle": false,
     "title": ""
    }
   },
   "source": [
    "We first select only the columns \"PULocationID\", \"DOLocationID\", \"trip_distance\", \"passenger_count\", and \"total_amount\" from the DataFrame df. This reduces the DataFrame to only the columns we're interested in.\n",
    "\n",
    "Then, we filter out rows where either trip_distance is zero or both passenger_count and total_amount are zero. We use the filter method along with logical conditions to achieve this. The ~ symbol negates the condition, so it filters out rows where the condition is not true."
   ]
  },
  {
   "cell_type": "code",
   "execution_count": 0,
   "metadata": {
    "application/vnd.databricks.v1+cell": {
     "cellMetadata": {
      "byteLimit": 2048000,
      "rowLimit": 10000
     },
     "inputWidgets": {},
     "nuid": "3c6c287d-8707-4989-8ee9-2967a486c925",
     "showTitle": false,
     "title": ""
    }
   },
   "outputs": [
    {
     "output_type": "stream",
     "name": "stdout",
     "output_type": "stream",
     "text": [
      "Row count: 2,858,164\n"
     ]
    },
    {
     "output_type": "display_data",
     "data": {
      "text/html": [
       "<style scoped>\n",
       "  .table-result-container {\n",
       "    max-height: 300px;\n",
       "    overflow: auto;\n",
       "  }\n",
       "  table, th, td {\n",
       "    border: 1px solid black;\n",
       "    border-collapse: collapse;\n",
       "  }\n",
       "  th, td {\n",
       "    padding: 5px;\n",
       "  }\n",
       "  th {\n",
       "    text-align: left;\n",
       "  }\n",
       "</style><div class='table-result-container'><table class='table-result'><thead style='background-color: white'><tr><th>PULocationID</th><th>DOLocationID</th><th>trip_distance</th><th>passenger_count</th><th>total_amount</th></tr></thead><tbody><tr><td>90</td><td>68</td><td>0.8</td><td>1.0</td><td>8.8</td></tr><tr><td>113</td><td>90</td><td>0.9</td><td>1.0</td><td>8.8</td></tr><tr><td>88</td><td>232</td><td>2.8</td><td>1.0</td><td>13.8</td></tr><tr><td>79</td><td>249</td><td>1.4</td><td>1.0</td><td>12.3</td></tr><tr><td>142</td><td>238</td><td>2.0</td><td>0.0</td><td>12.3</td></tr><tr><td>114</td><td>90</td><td>1.6</td><td>1.0</td><td>12.8</td></tr><tr><td>90</td><td>144</td><td>1.8</td><td>1.0</td><td>13.3</td></tr><tr><td>114</td><td>48</td><td>2.0</td><td>1.0</td><td>14.75</td></tr><tr><td>48</td><td>152</td><td>5.7</td><td>1.0</td><td>22.3</td></tr><tr><td>234</td><td>148</td><td>1.8</td><td>1.0</td><td>14.75</td></tr></tbody></table></div>"
      ]
     },
     "metadata": {
      "application/vnd.databricks.v1+output": {
       "addedWidgets": {},
       "aggData": [],
       "aggError": "",
       "aggOverflow": false,
       "aggSchema": [],
       "aggSeriesLimitReached": false,
       "aggType": "",
       "arguments": {},
       "columnCustomDisplayInfos": {},
       "data": [
        [
         90,
         68,
         0.8,
         1.0,
         8.8
        ],
        [
         113,
         90,
         0.9,
         1.0,
         8.8
        ],
        [
         88,
         232,
         2.8,
         1.0,
         13.8
        ],
        [
         79,
         249,
         1.4,
         1.0,
         12.3
        ],
        [
         142,
         238,
         2.0,
         0.0,
         12.3
        ],
        [
         114,
         90,
         1.6,
         1.0,
         12.8
        ],
        [
         90,
         144,
         1.8,
         1.0,
         13.3
        ],
        [
         114,
         48,
         2.0,
         1.0,
         14.75
        ],
        [
         48,
         152,
         5.7,
         1.0,
         22.3
        ],
        [
         234,
         148,
         1.8,
         1.0,
         14.75
        ]
       ],
       "datasetInfos": [],
       "dbfsResultPath": null,
       "isJsonSchema": true,
       "metadata": {},
       "overflow": false,
       "plotOptions": {
        "customPlotOptions": {},
        "displayType": "table",
        "pivotAggregation": null,
        "pivotColumns": null,
        "xColumns": null,
        "yColumns": null
       },
       "removedWidgets": [],
       "schema": [
        {
         "metadata": "{}",
         "name": "PULocationID",
         "type": "\"long\""
        },
        {
         "metadata": "{}",
         "name": "DOLocationID",
         "type": "\"long\""
        },
        {
         "metadata": "{}",
         "name": "trip_distance",
         "type": "\"double\""
        },
        {
         "metadata": "{}",
         "name": "passenger_count",
         "type": "\"double\""
        },
        {
         "metadata": "{}",
         "name": "total_amount",
         "type": "\"double\""
        }
       ],
       "type": "table"
      }
     },
     "output_type": "display_data"
    }
   ],
   "source": [
    "# execute task 1.1\n",
    "trips_11 = t11_remove_zeros(trips)\n",
    "#Print the count of rows in the resulting DataFrame trips_11\n",
    "print_count(trips_11)\n",
    "\n",
    "## uncomment only for smaller datasets\n",
    "display(trips_11.take(10))"
   ]
  },
  {
   "cell_type": "code",
   "execution_count": 0,
   "metadata": {
    "application/vnd.databricks.v1+cell": {
     "cellMetadata": {
      "byteLimit": 2048000,
      "rowLimit": 10000
     },
     "inputWidgets": {},
     "nuid": "47cc3483-37bf-4f96-a7d6-68089adecf61",
     "showTitle": false,
     "title": ""
    }
   },
   "outputs": [],
   "source": [
    "import pyspark.sql.functions as F\n",
    "from pyspark.sql.functions import col\n",
    "\n",
    "def t12_remove_outliers(df_new):\n",
    "\n",
    "    # Calculate the median and MAD for total_amount\n",
    "    total_amount_median = df_new.agg(F.expr(\"percentile_approx(total_amount, 0.5)\").alias(\"median_total_amount\")).collect()[0][\"median_total_amount\"]\n",
    "\n",
    "    # Calculate absolute deviations from the median\n",
    "    df_new = df_new.withColumn (\"total_amount_xi\", F.abs(df_new.total_amount - total_amount_median)) \n",
    "\n",
    "    # Calculate MAD (Median Absolute Deviation)\n",
    "    total_amount_mad = 1.483 * df_new.agg(F.expr(\"percentile_approx(total_amount_xi, 0.5)\").alias('total_amount_mad')).collect()[0][\"total_amount_mad\"]\n",
    "\n",
    "    # Calculate z-score for total_amount\n",
    "    df_new = df_new.withColumn (\"z_score_total_amount\", F.abs(col(\"total_amount\") - total_amount_median) / total_amount_mad)\n",
    "\n",
    "\n",
    "    # Calculate the median and MAD for trip_distance\n",
    "    trip_distance_median = df_new.agg(F.expr(\"percentile_approx(trip_distance, 0.5)\").alias(\"median_trip_distance\")).collect()[0][\"median_trip_distance\"]\n",
    "\n",
    "    # Calculate absolute deviations from the median\n",
    "    df_new = df_new.withColumn(\"trip_distance_xi\", F.abs(df_new.trip_distance - trip_distance_median))\n",
    "\n",
    "    # Calculate MAD (Median Absolute Deviation)\n",
    "    trip_distance_mad = 1.483 * df_new.agg(F.expr(\"percentile_approx(trip_distance_xi, 0.5)\").alias('trip_distance_mad')).collect()[0][\"trip_distance_mad\"]\n",
    "\n",
    "     # Calculate z-score for trip_distance\n",
    "    df_new = df_new.withColumn(\"z_score_trip_distance\", F.abs(col(\"trip_distance\") - trip_distance_median) / trip_distance_mad)\n",
    "\n",
    "    # Remove outliers\n",
    "    df_new = df_new.filter(~(df_new.z_score_total_amount > 3.5)|(df_new.z_score_trip_distance > 3.5) )\n",
    "\n",
    "    \n",
    "    # Print median and MAD values for reference\n",
    "    print(\"Median value for Total amount:\",total_amount_median)\n",
    "    print(\"MAD value for Total amount:\",total_amount_mad)\n",
    "    print(\"MAD value for Trip distance:\",trip_distance_mad)\n",
    "    print(\"Median value for Trip distance:\",trip_distance_median)\n",
    "\n",
    "    return df_new\n",
    "\n",
    "\n",
    "\n",
    "\n"
   ]
  },
  {
   "cell_type": "code",
   "execution_count": 0,
   "metadata": {
    "application/vnd.databricks.v1+cell": {
     "cellMetadata": {
      "byteLimit": 2048000,
      "rowLimit": 10000
     },
     "inputWidgets": {},
     "nuid": "96533a0e-242b-42d6-bc10-3b1ea3a13681",
     "showTitle": false,
     "title": ""
    }
   },
   "outputs": [
    {
     "output_type": "stream",
     "name": "stdout",
     "output_type": "stream",
     "text": [
      "Median value for Total amount: 15.3\nMAD value for Total amount: 6.317579999999998\nMAD value for Trip distance: 1.4088500000000004\nMedian value for Trip distance: 1.9\nRow count: 2,836,613\n"
     ]
    },
    {
     "output_type": "display_data",
     "data": {
      "text/html": [
       "<style scoped>\n",
       "  .table-result-container {\n",
       "    max-height: 300px;\n",
       "    overflow: auto;\n",
       "  }\n",
       "  table, th, td {\n",
       "    border: 1px solid black;\n",
       "    border-collapse: collapse;\n",
       "  }\n",
       "  th, td {\n",
       "    padding: 5px;\n",
       "  }\n",
       "  th {\n",
       "    text-align: left;\n",
       "  }\n",
       "</style><div class='table-result-container'><table class='table-result'><thead style='background-color: white'><tr><th>PULocationID</th><th>DOLocationID</th><th>trip_distance</th><th>passenger_count</th><th>total_amount</th><th>total_amount_xi</th><th>z_score_total_amount</th><th>trip_distance_xi</th><th>z_score_trip_distance</th></tr></thead><tbody><tr><td>90</td><td>68</td><td>0.8</td><td>1.0</td><td>8.8</td><td>6.5</td><td>1.0288749806096642</td><td>1.0999999999999999</td><td>0.7807786492529365</td></tr><tr><td>113</td><td>90</td><td>0.9</td><td>1.0</td><td>8.8</td><td>6.5</td><td>1.0288749806096642</td><td>0.9999999999999999</td><td>0.7097987720481241</td></tr><tr><td>88</td><td>232</td><td>2.8</td><td>1.0</td><td>13.8</td><td>1.5</td><td>0.23743268783299942</td><td>0.8999999999999999</td><td>0.6388188948433117</td></tr><tr><td>79</td><td>249</td><td>1.4</td><td>1.0</td><td>12.3</td><td>3.0</td><td>0.47486537566599885</td><td>0.5</td><td>0.35489938602406207</td></tr><tr><td>142</td><td>238</td><td>2.0</td><td>0.0</td><td>12.3</td><td>3.0</td><td>0.47486537566599885</td><td>0.10000000000000009</td><td>0.07097987720481248</td></tr><tr><td>114</td><td>90</td><td>1.6</td><td>1.0</td><td>12.8</td><td>2.5</td><td>0.3957211463883324</td><td>0.2999999999999998</td><td>0.21293963161443713</td></tr><tr><td>90</td><td>144</td><td>1.8</td><td>1.0</td><td>13.3</td><td>2.0</td><td>0.3165769171106659</td><td>0.09999999999999987</td><td>0.07097987720481232</td></tr><tr><td>114</td><td>48</td><td>2.0</td><td>1.0</td><td>14.75</td><td>0.5500000000000007</td><td>0.08705865220543324</td><td>0.10000000000000009</td><td>0.07097987720481248</td></tr><tr><td>48</td><td>152</td><td>5.7</td><td>1.0</td><td>22.3</td><td>7.0</td><td>1.1080192098873307</td><td>3.8000000000000003</td><td>2.697235333782872</td></tr><tr><td>234</td><td>148</td><td>1.8</td><td>1.0</td><td>14.75</td><td>0.5500000000000007</td><td>0.08705865220543324</td><td>0.09999999999999987</td><td>0.07097987720481232</td></tr></tbody></table></div>"
      ]
     },
     "metadata": {
      "application/vnd.databricks.v1+output": {
       "addedWidgets": {},
       "aggData": [],
       "aggError": "",
       "aggOverflow": false,
       "aggSchema": [],
       "aggSeriesLimitReached": false,
       "aggType": "",
       "arguments": {},
       "columnCustomDisplayInfos": {},
       "data": [
        [
         90,
         68,
         0.8,
         1.0,
         8.8,
         6.5,
         1.0288749806096642,
         1.0999999999999999,
         0.7807786492529365
        ],
        [
         113,
         90,
         0.9,
         1.0,
         8.8,
         6.5,
         1.0288749806096642,
         0.9999999999999999,
         0.7097987720481241
        ],
        [
         88,
         232,
         2.8,
         1.0,
         13.8,
         1.5,
         0.23743268783299942,
         0.8999999999999999,
         0.6388188948433117
        ],
        [
         79,
         249,
         1.4,
         1.0,
         12.3,
         3.0,
         0.47486537566599885,
         0.5,
         0.35489938602406207
        ],
        [
         142,
         238,
         2.0,
         0.0,
         12.3,
         3.0,
         0.47486537566599885,
         0.10000000000000009,
         0.07097987720481248
        ],
        [
         114,
         90,
         1.6,
         1.0,
         12.8,
         2.5,
         0.3957211463883324,
         0.2999999999999998,
         0.21293963161443713
        ],
        [
         90,
         144,
         1.8,
         1.0,
         13.3,
         2.0,
         0.3165769171106659,
         0.09999999999999987,
         0.07097987720481232
        ],
        [
         114,
         48,
         2.0,
         1.0,
         14.75,
         0.5500000000000007,
         0.08705865220543324,
         0.10000000000000009,
         0.07097987720481248
        ],
        [
         48,
         152,
         5.7,
         1.0,
         22.3,
         7.0,
         1.1080192098873307,
         3.8000000000000003,
         2.697235333782872
        ],
        [
         234,
         148,
         1.8,
         1.0,
         14.75,
         0.5500000000000007,
         0.08705865220543324,
         0.09999999999999987,
         0.07097987720481232
        ]
       ],
       "datasetInfos": [],
       "dbfsResultPath": null,
       "isJsonSchema": true,
       "metadata": {},
       "overflow": false,
       "plotOptions": {
        "customPlotOptions": {},
        "displayType": "table",
        "pivotAggregation": null,
        "pivotColumns": null,
        "xColumns": null,
        "yColumns": null
       },
       "removedWidgets": [],
       "schema": [
        {
         "metadata": "{}",
         "name": "PULocationID",
         "type": "\"long\""
        },
        {
         "metadata": "{}",
         "name": "DOLocationID",
         "type": "\"long\""
        },
        {
         "metadata": "{}",
         "name": "trip_distance",
         "type": "\"double\""
        },
        {
         "metadata": "{}",
         "name": "passenger_count",
         "type": "\"double\""
        },
        {
         "metadata": "{}",
         "name": "total_amount",
         "type": "\"double\""
        },
        {
         "metadata": "{}",
         "name": "total_amount_xi",
         "type": "\"double\""
        },
        {
         "metadata": "{}",
         "name": "z_score_total_amount",
         "type": "\"double\""
        },
        {
         "metadata": "{}",
         "name": "trip_distance_xi",
         "type": "\"double\""
        },
        {
         "metadata": "{}",
         "name": "z_score_trip_distance",
         "type": "\"double\""
        }
       ],
       "type": "table"
      }
     },
     "output_type": "display_data"
    }
   ],
   "source": [
    "# execute task 1.2\n",
    "trips_12 = t12_remove_outliers(trips_11)\n",
    "\n",
    "print_count(trips_12)\n",
    "display(trips_12.take(10))"
   ]
  },
  {
   "cell_type": "markdown",
   "metadata": {
    "application/vnd.databricks.v1+cell": {
     "cellMetadata": {
      "byteLimit": 2048000,
      "rowLimit": 10000
     },
     "inputWidgets": {},
     "nuid": "77f3f561-5d39-46bf-84fa-0b0c3aafa0cc",
     "showTitle": false,
     "title": ""
    }
   },
   "source": [
    "## Task 2 - Compute new columns\n",
    "\n",
    "### Task 2.1 - Zone names\n",
    "\n",
    "Obtain the **start** and **end** zone names of each trip by joining the `trips` and `zone_names` datasets (i.e. by using the `zone_names` dataset as lookup table).\n",
    "\n",
    "**Note:** The columns containing the start and end zone ids of each trip are named `PULocationID` and `DOLocationID`, respectively.\n",
    "\n",
    "### Task 2.2 - Unit profitability\n",
    "\n",
    "Compute the column `unit_profitability = total_amount / trip_distance`."
   ]
  },
  {
   "cell_type": "code",
   "execution_count": 0,
   "metadata": {
    "application/vnd.databricks.v1+cell": {
     "cellMetadata": {
      "byteLimit": 2048000,
      "rowLimit": 10000
     },
     "inputWidgets": {},
     "nuid": "a61d8288-1539-4f34-856f-98aa7fd0f7f4",
     "showTitle": false,
     "title": ""
    }
   },
   "outputs": [],
   "source": [
    "# develop your solution here (create/destroy cells as needed) and then implement it in the functions below"
   ]
  },
  {
   "cell_type": "code",
   "execution_count": 0,
   "metadata": {
    "application/vnd.databricks.v1+cell": {
     "cellMetadata": {
      "byteLimit": 2048000,
      "rowLimit": 10000
     },
     "inputWidgets": {},
     "nuid": "bf0cd0ff-8d0a-4b46-82de-e2edd56e2f10",
     "showTitle": false,
     "title": ""
    },
    "jupyter": {
     "source_hidden": true
    }
   },
   "outputs": [],
   "source": [
    "# Your solution implementation to task 2.1 goes HERE\n",
    "def t21_join_zones(df_new, zones_df = zone_names):\n",
    "    # input: output of task 1.2 and zone_names dataset\n",
    "    trips_with_start_zones = df_new.join(zones_df, df_new['PULocationID'] == zones_df['LocationID'],how = 'left').select(df_new['*'],zones_df['Borough'].alias('start_Borough'), zones_df['Zone'].alias('start_Zone'), zones_df['service_zone'].alias('start_service_zone'))\n",
    "\n",
    "    trips_with_end_zones = df_new.join(zones_df, df_new['DOLocationID'] == zones_df['LocationID'],how = 'left').select(df_new['*'],zones_df['Borough'].alias('end_Borough'), zones_df['Zone'].alias('end_Zone'), zones_df['service_zone'].alias('end_service_zone'))\n",
    "    \n",
    "    return trips_with_start_zones , trips_with_end_zones"
   ]
  },
  {
   "cell_type": "code",
   "execution_count": 0,
   "metadata": {
    "application/vnd.databricks.v1+cell": {
     "cellMetadata": {
      "byteLimit": 2048000,
      "rowLimit": 10000
     },
     "inputWidgets": {},
     "nuid": "6c1a5f03-5598-4d70-8683-6657bcdcfa3b",
     "showTitle": false,
     "title": ""
    }
   },
   "outputs": [],
   "source": [
    "from pyspark.sql.functions import expr, col\n",
    "def t21_join_zones(df_new, zones_df = zone_names):\n",
    "    # Joining trips_df with zone_names_df to get start zone names\n",
    "    trips_with_start_zones = zones_df.withColumnRenamed('LocationID' , 'PULocationID')\\\n",
    "                                .withColumnRenamed('Zone' , 'start_zone')\n",
    "    \n",
    "    # Joining trips_df with zone_names_df to get end zone names\n",
    "    trips_with_end_zones = zones_df.withColumnRenamed('LocationID' , 'DOLocationID')\\\n",
    "                                .withColumnRenamed('Zone' , 'end_zone')\n",
    "    \n",
    "    # Adding end zone columns to trips_with_start_zones\n",
    "    df_new = df_new.join(trips_with_start_zones , ['PULocationID'] , 'left')\\\n",
    "                    .join(trips_with_end_zones, ['DOLocationID'] , 'left' )\n",
    "\n",
    "    \n",
    "    return df_new\n"
   ]
  },
  {
   "cell_type": "code",
   "execution_count": 0,
   "metadata": {
    "application/vnd.databricks.v1+cell": {
     "cellMetadata": {
      "byteLimit": 2048000,
      "rowLimit": 10000
     },
     "inputWidgets": {},
     "nuid": "6a3abc15-94bb-4352-964f-e3919956b363",
     "showTitle": false,
     "title": ""
    }
   },
   "outputs": [
    {
     "output_type": "stream",
     "name": "stdout",
     "output_type": "stream",
     "text": [
      "Row count: 2,836,613\n"
     ]
    },
    {
     "output_type": "display_data",
     "data": {
      "text/html": [
       "<style scoped>\n",
       "  .table-result-container {\n",
       "    max-height: 300px;\n",
       "    overflow: auto;\n",
       "  }\n",
       "  table, th, td {\n",
       "    border: 1px solid black;\n",
       "    border-collapse: collapse;\n",
       "  }\n",
       "  th, td {\n",
       "    padding: 5px;\n",
       "  }\n",
       "  th {\n",
       "    text-align: left;\n",
       "  }\n",
       "</style><div class='table-result-container'><table class='table-result'><thead style='background-color: white'><tr><th>DOLocationID</th><th>PULocationID</th><th>trip_distance</th><th>passenger_count</th><th>total_amount</th><th>total_amount_xi</th><th>z_score_total_amount</th><th>trip_distance_xi</th><th>z_score_trip_distance</th><th>Borough</th><th>start_zone</th><th>service_zone</th><th>Borough</th><th>end_zone</th><th>service_zone</th></tr></thead><tbody><tr><td>68</td><td>90</td><td>0.8</td><td>1.0</td><td>8.8</td><td>6.5</td><td>1.0288749806096642</td><td>1.0999999999999999</td><td>0.7807786492529365</td><td>Manhattan</td><td>Flatiron</td><td>Yellow Zone</td><td>Manhattan</td><td>East Chelsea</td><td>Yellow Zone</td></tr><tr><td>90</td><td>113</td><td>0.9</td><td>1.0</td><td>8.8</td><td>6.5</td><td>1.0288749806096642</td><td>0.9999999999999999</td><td>0.7097987720481241</td><td>Manhattan</td><td>Greenwich Village North</td><td>Yellow Zone</td><td>Manhattan</td><td>Flatiron</td><td>Yellow Zone</td></tr><tr><td>232</td><td>88</td><td>2.8</td><td>1.0</td><td>13.8</td><td>1.5</td><td>0.23743268783299942</td><td>0.8999999999999999</td><td>0.6388188948433117</td><td>Manhattan</td><td>Financial District South</td><td>Yellow Zone</td><td>Manhattan</td><td>Two Bridges/Seward Park</td><td>Yellow Zone</td></tr><tr><td>249</td><td>79</td><td>1.4</td><td>1.0</td><td>12.3</td><td>3.0</td><td>0.47486537566599885</td><td>0.5</td><td>0.35489938602406207</td><td>Manhattan</td><td>East Village</td><td>Yellow Zone</td><td>Manhattan</td><td>West Village</td><td>Yellow Zone</td></tr><tr><td>238</td><td>142</td><td>2.0</td><td>0.0</td><td>12.3</td><td>3.0</td><td>0.47486537566599885</td><td>0.10000000000000009</td><td>0.07097987720481248</td><td>Manhattan</td><td>Lincoln Square East</td><td>Yellow Zone</td><td>Manhattan</td><td>Upper West Side North</td><td>Yellow Zone</td></tr><tr><td>90</td><td>114</td><td>1.6</td><td>1.0</td><td>12.8</td><td>2.5</td><td>0.3957211463883324</td><td>0.2999999999999998</td><td>0.21293963161443713</td><td>Manhattan</td><td>Greenwich Village South</td><td>Yellow Zone</td><td>Manhattan</td><td>Flatiron</td><td>Yellow Zone</td></tr><tr><td>144</td><td>90</td><td>1.8</td><td>1.0</td><td>13.3</td><td>2.0</td><td>0.3165769171106659</td><td>0.09999999999999987</td><td>0.07097987720481232</td><td>Manhattan</td><td>Flatiron</td><td>Yellow Zone</td><td>Manhattan</td><td>Little Italy/NoLiTa</td><td>Yellow Zone</td></tr><tr><td>48</td><td>114</td><td>2.0</td><td>1.0</td><td>14.75</td><td>0.5500000000000007</td><td>0.08705865220543324</td><td>0.10000000000000009</td><td>0.07097987720481248</td><td>Manhattan</td><td>Greenwich Village South</td><td>Yellow Zone</td><td>Manhattan</td><td>Clinton East</td><td>Yellow Zone</td></tr><tr><td>152</td><td>48</td><td>5.7</td><td>1.0</td><td>22.3</td><td>7.0</td><td>1.1080192098873307</td><td>3.8000000000000003</td><td>2.697235333782872</td><td>Manhattan</td><td>Clinton East</td><td>Yellow Zone</td><td>Manhattan</td><td>Manhattanville</td><td>Boro Zone</td></tr><tr><td>148</td><td>234</td><td>1.8</td><td>1.0</td><td>14.75</td><td>0.5500000000000007</td><td>0.08705865220543324</td><td>0.09999999999999987</td><td>0.07097987720481232</td><td>Manhattan</td><td>Union Sq</td><td>Yellow Zone</td><td>Manhattan</td><td>Lower East Side</td><td>Yellow Zone</td></tr></tbody></table></div>"
      ]
     },
     "metadata": {
      "application/vnd.databricks.v1+output": {
       "addedWidgets": {},
       "aggData": [],
       "aggError": "",
       "aggOverflow": false,
       "aggSchema": [],
       "aggSeriesLimitReached": false,
       "aggType": "",
       "arguments": {},
       "columnCustomDisplayInfos": {},
       "data": [
        [
         68,
         90,
         0.8,
         1.0,
         8.8,
         6.5,
         1.0288749806096642,
         1.0999999999999999,
         0.7807786492529365,
         "Manhattan",
         "Flatiron",
         "Yellow Zone",
         "Manhattan",
         "East Chelsea",
         "Yellow Zone"
        ],
        [
         90,
         113,
         0.9,
         1.0,
         8.8,
         6.5,
         1.0288749806096642,
         0.9999999999999999,
         0.7097987720481241,
         "Manhattan",
         "Greenwich Village North",
         "Yellow Zone",
         "Manhattan",
         "Flatiron",
         "Yellow Zone"
        ],
        [
         232,
         88,
         2.8,
         1.0,
         13.8,
         1.5,
         0.23743268783299942,
         0.8999999999999999,
         0.6388188948433117,
         "Manhattan",
         "Financial District South",
         "Yellow Zone",
         "Manhattan",
         "Two Bridges/Seward Park",
         "Yellow Zone"
        ],
        [
         249,
         79,
         1.4,
         1.0,
         12.3,
         3.0,
         0.47486537566599885,
         0.5,
         0.35489938602406207,
         "Manhattan",
         "East Village",
         "Yellow Zone",
         "Manhattan",
         "West Village",
         "Yellow Zone"
        ],
        [
         238,
         142,
         2.0,
         0.0,
         12.3,
         3.0,
         0.47486537566599885,
         0.10000000000000009,
         0.07097987720481248,
         "Manhattan",
         "Lincoln Square East",
         "Yellow Zone",
         "Manhattan",
         "Upper West Side North",
         "Yellow Zone"
        ],
        [
         90,
         114,
         1.6,
         1.0,
         12.8,
         2.5,
         0.3957211463883324,
         0.2999999999999998,
         0.21293963161443713,
         "Manhattan",
         "Greenwich Village South",
         "Yellow Zone",
         "Manhattan",
         "Flatiron",
         "Yellow Zone"
        ],
        [
         144,
         90,
         1.8,
         1.0,
         13.3,
         2.0,
         0.3165769171106659,
         0.09999999999999987,
         0.07097987720481232,
         "Manhattan",
         "Flatiron",
         "Yellow Zone",
         "Manhattan",
         "Little Italy/NoLiTa",
         "Yellow Zone"
        ],
        [
         48,
         114,
         2.0,
         1.0,
         14.75,
         0.5500000000000007,
         0.08705865220543324,
         0.10000000000000009,
         0.07097987720481248,
         "Manhattan",
         "Greenwich Village South",
         "Yellow Zone",
         "Manhattan",
         "Clinton East",
         "Yellow Zone"
        ],
        [
         152,
         48,
         5.7,
         1.0,
         22.3,
         7.0,
         1.1080192098873307,
         3.8000000000000003,
         2.697235333782872,
         "Manhattan",
         "Clinton East",
         "Yellow Zone",
         "Manhattan",
         "Manhattanville",
         "Boro Zone"
        ],
        [
         148,
         234,
         1.8,
         1.0,
         14.75,
         0.5500000000000007,
         0.08705865220543324,
         0.09999999999999987,
         0.07097987720481232,
         "Manhattan",
         "Union Sq",
         "Yellow Zone",
         "Manhattan",
         "Lower East Side",
         "Yellow Zone"
        ]
       ],
       "datasetInfos": [],
       "dbfsResultPath": null,
       "isJsonSchema": true,
       "metadata": {},
       "overflow": false,
       "plotOptions": {
        "customPlotOptions": {},
        "displayType": "table",
        "pivotAggregation": null,
        "pivotColumns": null,
        "xColumns": null,
        "yColumns": null
       },
       "removedWidgets": [],
       "schema": [
        {
         "metadata": "{}",
         "name": "DOLocationID",
         "type": "\"long\""
        },
        {
         "metadata": "{}",
         "name": "PULocationID",
         "type": "\"long\""
        },
        {
         "metadata": "{}",
         "name": "trip_distance",
         "type": "\"double\""
        },
        {
         "metadata": "{}",
         "name": "passenger_count",
         "type": "\"double\""
        },
        {
         "metadata": "{}",
         "name": "total_amount",
         "type": "\"double\""
        },
        {
         "metadata": "{}",
         "name": "total_amount_xi",
         "type": "\"double\""
        },
        {
         "metadata": "{}",
         "name": "z_score_total_amount",
         "type": "\"double\""
        },
        {
         "metadata": "{}",
         "name": "trip_distance_xi",
         "type": "\"double\""
        },
        {
         "metadata": "{}",
         "name": "z_score_trip_distance",
         "type": "\"double\""
        },
        {
         "metadata": "{}",
         "name": "Borough",
         "type": "\"string\""
        },
        {
         "metadata": "{}",
         "name": "start_zone",
         "type": "\"string\""
        },
        {
         "metadata": "{}",
         "name": "service_zone",
         "type": "\"string\""
        },
        {
         "metadata": "{}",
         "name": "Borough",
         "type": "\"string\""
        },
        {
         "metadata": "{}",
         "name": "end_zone",
         "type": "\"string\""
        },
        {
         "metadata": "{}",
         "name": "service_zone",
         "type": "\"string\""
        }
       ],
       "type": "table"
      }
     },
     "output_type": "display_data"
    }
   ],
   "source": [
    "# execute task 2.1\n",
    "trips_21 = t21_join_zones(trips_12, zones_df = zone_names)\n",
    "\n",
    "print_count(trips_21)\n",
    "display(trips_21.take(10))"
   ]
  },
  {
   "cell_type": "code",
   "execution_count": 0,
   "metadata": {
    "application/vnd.databricks.v1+cell": {
     "cellMetadata": {
      "byteLimit": 2048000,
      "rowLimit": 10000
     },
     "inputWidgets": {},
     "nuid": "244ecaed-2632-4ed1-ab91-e41d8a91b7c2",
     "showTitle": false,
     "title": ""
    }
   },
   "outputs": [],
   "source": [
    "def t22_calc_profit(df_new):\n",
    "    \"\"\"\n",
    "    Task 2.2: Compute the column unit_profitability = total_amount / trip_distance.\n",
    "    \"\"\"\n",
    "    # Compute unit profitability and add it to the DataFrame\n",
    "    df_new = df_new.withColumn(\"unit_profitability\", df_new[\"total_amount\"] / df_new[\"trip_distance\"])\n",
    "    \n",
    "    return df_new\n",
    "\n"
   ]
  },
  {
   "cell_type": "code",
   "execution_count": 0,
   "metadata": {
    "application/vnd.databricks.v1+cell": {
     "cellMetadata": {
      "byteLimit": 2048000,
      "rowLimit": 10000
     },
     "inputWidgets": {},
     "nuid": "a3528be7-4fe2-4e68-a94b-a3b33ada952c",
     "showTitle": false,
     "title": ""
    }
   },
   "outputs": [
    {
     "output_type": "stream",
     "name": "stdout",
     "output_type": "stream",
     "text": [
      "Row count: 2,836,613\n"
     ]
    },
    {
     "output_type": "display_data",
     "data": {
      "text/html": [
       "<style scoped>\n",
       "  .table-result-container {\n",
       "    max-height: 300px;\n",
       "    overflow: auto;\n",
       "  }\n",
       "  table, th, td {\n",
       "    border: 1px solid black;\n",
       "    border-collapse: collapse;\n",
       "  }\n",
       "  th, td {\n",
       "    padding: 5px;\n",
       "  }\n",
       "  th {\n",
       "    text-align: left;\n",
       "  }\n",
       "</style><div class='table-result-container'><table class='table-result'><thead style='background-color: white'><tr><th>DOLocationID</th><th>PULocationID</th><th>trip_distance</th><th>passenger_count</th><th>total_amount</th><th>total_amount_xi</th><th>z_score_total_amount</th><th>trip_distance_xi</th><th>z_score_trip_distance</th><th>Borough</th><th>start_zone</th><th>service_zone</th><th>Borough</th><th>end_zone</th><th>service_zone</th><th>unit_profitability</th></tr></thead><tbody><tr><td>68</td><td>90</td><td>0.8</td><td>1.0</td><td>8.8</td><td>6.5</td><td>1.0288749806096642</td><td>1.0999999999999999</td><td>0.7807786492529365</td><td>Manhattan</td><td>Flatiron</td><td>Yellow Zone</td><td>Manhattan</td><td>East Chelsea</td><td>Yellow Zone</td><td>11.0</td></tr><tr><td>90</td><td>113</td><td>0.9</td><td>1.0</td><td>8.8</td><td>6.5</td><td>1.0288749806096642</td><td>0.9999999999999999</td><td>0.7097987720481241</td><td>Manhattan</td><td>Greenwich Village North</td><td>Yellow Zone</td><td>Manhattan</td><td>Flatiron</td><td>Yellow Zone</td><td>9.777777777777779</td></tr><tr><td>232</td><td>88</td><td>2.8</td><td>1.0</td><td>13.8</td><td>1.5</td><td>0.23743268783299942</td><td>0.8999999999999999</td><td>0.6388188948433117</td><td>Manhattan</td><td>Financial District South</td><td>Yellow Zone</td><td>Manhattan</td><td>Two Bridges/Seward Park</td><td>Yellow Zone</td><td>4.928571428571429</td></tr><tr><td>249</td><td>79</td><td>1.4</td><td>1.0</td><td>12.3</td><td>3.0</td><td>0.47486537566599885</td><td>0.5</td><td>0.35489938602406207</td><td>Manhattan</td><td>East Village</td><td>Yellow Zone</td><td>Manhattan</td><td>West Village</td><td>Yellow Zone</td><td>8.785714285714286</td></tr><tr><td>238</td><td>142</td><td>2.0</td><td>0.0</td><td>12.3</td><td>3.0</td><td>0.47486537566599885</td><td>0.10000000000000009</td><td>0.07097987720481248</td><td>Manhattan</td><td>Lincoln Square East</td><td>Yellow Zone</td><td>Manhattan</td><td>Upper West Side North</td><td>Yellow Zone</td><td>6.15</td></tr><tr><td>90</td><td>114</td><td>1.6</td><td>1.0</td><td>12.8</td><td>2.5</td><td>0.3957211463883324</td><td>0.2999999999999998</td><td>0.21293963161443713</td><td>Manhattan</td><td>Greenwich Village South</td><td>Yellow Zone</td><td>Manhattan</td><td>Flatiron</td><td>Yellow Zone</td><td>8.0</td></tr><tr><td>144</td><td>90</td><td>1.8</td><td>1.0</td><td>13.3</td><td>2.0</td><td>0.3165769171106659</td><td>0.09999999999999987</td><td>0.07097987720481232</td><td>Manhattan</td><td>Flatiron</td><td>Yellow Zone</td><td>Manhattan</td><td>Little Italy/NoLiTa</td><td>Yellow Zone</td><td>7.388888888888889</td></tr><tr><td>48</td><td>114</td><td>2.0</td><td>1.0</td><td>14.75</td><td>0.5500000000000007</td><td>0.08705865220543324</td><td>0.10000000000000009</td><td>0.07097987720481248</td><td>Manhattan</td><td>Greenwich Village South</td><td>Yellow Zone</td><td>Manhattan</td><td>Clinton East</td><td>Yellow Zone</td><td>7.375</td></tr><tr><td>152</td><td>48</td><td>5.7</td><td>1.0</td><td>22.3</td><td>7.0</td><td>1.1080192098873307</td><td>3.8000000000000003</td><td>2.697235333782872</td><td>Manhattan</td><td>Clinton East</td><td>Yellow Zone</td><td>Manhattan</td><td>Manhattanville</td><td>Boro Zone</td><td>3.912280701754386</td></tr><tr><td>148</td><td>234</td><td>1.8</td><td>1.0</td><td>14.75</td><td>0.5500000000000007</td><td>0.08705865220543324</td><td>0.09999999999999987</td><td>0.07097987720481232</td><td>Manhattan</td><td>Union Sq</td><td>Yellow Zone</td><td>Manhattan</td><td>Lower East Side</td><td>Yellow Zone</td><td>8.194444444444445</td></tr><tr><td>141</td><td>79</td><td>3.5</td><td>2.0</td><td>17.3</td><td>2.0</td><td>0.3165769171106659</td><td>1.6</td><td>1.1356780352769986</td><td>Manhattan</td><td>East Village</td><td>Yellow Zone</td><td>Manhattan</td><td>Lenox Hill West</td><td>Yellow Zone</td><td>4.942857142857143</td></tr><tr><td>69</td><td>138</td><td>7.5</td><td>1.0</td><td>37.3</td><td>21.999999999999996</td><td>3.4823460882173243</td><td>5.6</td><td>3.974873123469495</td><td>Queens</td><td>LaGuardia Airport</td><td>Airports</td><td>Bronx</td><td>East Concourse/Concourse Village</td><td>Boro Zone</td><td>4.973333333333333</td></tr><tr><td>164</td><td>230</td><td>1.02</td><td>1.0</td><td>10.3</td><td>5.0</td><td>0.7914422927766648</td><td>0.8799999999999999</td><td>0.6246229194023492</td><td>Manhattan</td><td>Times Sq/Theatre District</td><td>Yellow Zone</td><td>Manhattan</td><td>Midtown South</td><td>Yellow Zone</td><td>10.098039215686274</td></tr><tr><td>79</td><td>249</td><td>1.15</td><td>1.0</td><td>14.16</td><td>1.1400000000000006</td><td>0.18044884275307965</td><td>0.75</td><td>0.5323490790360931</td><td>Manhattan</td><td>West Village</td><td>Yellow Zone</td><td>Manhattan</td><td>East Village</td><td>Yellow Zone</td><td>12.313043478260871</td></tr><tr><td>90</td><td>48</td><td>2.16</td><td>1.0</td><td>14.3</td><td>1.0</td><td>0.15828845855533294</td><td>0.26000000000000023</td><td>0.18454768073251246</td><td>Manhattan</td><td>Clinton East</td><td>Yellow Zone</td><td>Manhattan</td><td>Flatiron</td><td>Yellow Zone</td><td>6.62037037037037</td></tr><tr><td>48</td><td>90</td><td>1.07</td><td>1.0</td><td>9.55</td><td>5.75</td><td>0.9101586366931644</td><td>0.8299999999999998</td><td>0.5891329807999429</td><td>Manhattan</td><td>Flatiron</td><td>Yellow Zone</td><td>Manhattan</td><td>Clinton East</td><td>Yellow Zone</td><td>8.925233644859814</td></tr><tr><td>238</td><td>142</td><td>1.56</td><td>1.0</td><td>12.36</td><td>2.9400000000000013</td><td>0.46536806815267906</td><td>0.33999999999999986</td><td>0.2413315824963621</td><td>Manhattan</td><td>Lincoln Square East</td><td>Yellow Zone</td><td>Manhattan</td><td>Upper West Side North</td><td>Yellow Zone</td><td>7.9230769230769225</td></tr><tr><td>98</td><td>132</td><td>8.5</td><td>3.0</td><td>27.05</td><td>11.75</td><td>1.8598893880251621</td><td>6.6</td><td>4.684671895517619</td><td>Queens</td><td>JFK Airport</td><td>Airports</td><td>Queens</td><td>Fresh Meadows</td><td>Boro Zone</td><td>3.182352941176471</td></tr><tr><td>222</td><td>132</td><td>8.4</td><td>3.0</td><td>27.55</td><td>12.25</td><td>1.9390336173028286</td><td>6.5</td><td>4.613692018312807</td><td>Queens</td><td>JFK Airport</td><td>Airports</td><td>Brooklyn</td><td>Starrett City</td><td>Boro Zone</td><td>3.2797619047619047</td></tr><tr><td>74</td><td>132</td><td>17.07</td><td>1.0</td><td>70.6</td><td>55.3</td><td>8.753351758109911</td><td>15.17</td><td>10.767647371970044</td><td>Queens</td><td>JFK Airport</td><td>Airports</td><td>Manhattan</td><td>East Harlem North</td><td>Boro Zone</td><td>4.135910954891623</td></tr><tr><td>161</td><td>48</td><td>0.8</td><td>1.0</td><td>11.0</td><td>4.300000000000001</td><td>0.6806403717879318</td><td>1.0999999999999999</td><td>0.7807786492529365</td><td>Manhattan</td><td>Clinton East</td><td>Yellow Zone</td><td>Manhattan</td><td>Midtown Center</td><td>Yellow Zone</td><td>13.75</td></tr><tr><td>179</td><td>107</td><td>5.1</td><td>1.0</td><td>25.55</td><td>10.25</td><td>1.6224567001921628</td><td>3.1999999999999997</td><td>2.2713560705539972</td><td>Manhattan</td><td>Gramercy</td><td>Yellow Zone</td><td>Queens</td><td>Old Astoria</td><td>Boro Zone</td><td>5.009803921568628</td></tr><tr><td>246</td><td>13</td><td>2.34</td><td>1.0</td><td>15.96</td><td>0.6600000000000001</td><td>0.10447038264651977</td><td>0.43999999999999995</td><td>0.3123114597011746</td><td>Manhattan</td><td>Battery Park City</td><td>Yellow Zone</td><td>Manhattan</td><td>West Chelsea/Hudson Yards</td><td>Yellow Zone</td><td>6.820512820512821</td></tr><tr><td>232</td><td>68</td><td>5.79</td><td>1.0</td><td>34.12</td><td>18.819999999999997</td><td>2.978988790011366</td><td>3.89</td><td>2.761117223267203</td><td>Manhattan</td><td>East Chelsea</td><td>Yellow Zone</td><td>Manhattan</td><td>Two Bridges/Seward Park</td><td>Yellow Zone</td><td>5.8929188255613125</td></tr><tr><td>239</td><td>138</td><td>10.0</td><td>1.0</td><td>49.3</td><td>34.0</td><td>5.38180759088132</td><td>8.1</td><td>5.749370053589805</td><td>Queens</td><td>LaGuardia Airport</td><td>Airports</td><td>Manhattan</td><td>Upper West Side South</td><td>Yellow Zone</td><td>4.93</td></tr><tr><td>239</td><td>142</td><td>0.6</td><td>1.0</td><td>9.95</td><td>5.350000000000001</td><td>0.8468432532710315</td><td>1.2999999999999998</td><td>0.9227384036625613</td><td>Manhattan</td><td>Lincoln Square East</td><td>Yellow Zone</td><td>Manhattan</td><td>Upper West Side South</td><td>Yellow Zone</td><td>16.583333333333332</td></tr><tr><td>87</td><td>107</td><td>4.0</td><td>1.0</td><td>18.3</td><td>3.0</td><td>0.47486537566599885</td><td>2.1</td><td>1.4905774213010607</td><td>Manhattan</td><td>Gramercy</td><td>Yellow Zone</td><td>Manhattan</td><td>Financial District North</td><td>Yellow Zone</td><td>4.575</td></tr><tr><td>142</td><td>231</td><td>5.0</td><td>1.0</td><td>24.35</td><td>9.05</td><td>1.4325105499257633</td><td>3.1</td><td>2.200376193349185</td><td>Manhattan</td><td>TriBeCa/Civic Center</td><td>Yellow Zone</td><td>Manhattan</td><td>Lincoln Square East</td><td>Yellow Zone</td><td>4.87</td></tr><tr><td>158</td><td>132</td><td>18.6</td><td>1.0</td><td>73.1</td><td>57.8</td><td>9.149072904498244</td><td>16.700000000000003</td><td>11.853639493203676</td><td>Queens</td><td>JFK Airport</td><td>Airports</td><td>Manhattan</td><td>Meatpacking/West Village West</td><td>Yellow Zone</td><td>3.9301075268817196</td></tr><tr><td>141</td><td>158</td><td>3.7</td><td>1.0</td><td>20.75</td><td>5.449999999999999</td><td>0.8626720991265645</td><td>1.8000000000000003</td><td>1.2776377896866238</td><td>Manhattan</td><td>Meatpacking/West Village West</td><td>Yellow Zone</td><td>Manhattan</td><td>Lenox Hill West</td><td>Yellow Zone</td><td>5.608108108108108</td></tr><tr><td>50</td><td>75</td><td>3.56</td><td>1.0</td><td>17.3</td><td>2.0</td><td>0.3165769171106659</td><td>1.6600000000000001</td><td>1.1782659615998863</td><td>Manhattan</td><td>East Harlem South</td><td>Boro Zone</td><td>Manhattan</td><td>Clinton West</td><td>Yellow Zone</td><td>4.859550561797753</td></tr><tr><td>74</td><td>61</td><td>14.23</td><td>5.0</td><td>50.8</td><td>35.5</td><td>5.61924027871432</td><td>12.33</td><td>8.75181885935337</td><td>Brooklyn</td><td>Crown Heights North</td><td>Boro Zone</td><td>Manhattan</td><td>East Harlem North</td><td>Boro Zone</td><td>3.5699226985242443</td></tr><tr><td>246</td><td>48</td><td>1.9</td><td>2.0</td><td>14.75</td><td>0.5500000000000007</td><td>0.08705865220543324</td><td>0.0</td><td>0.0</td><td>Manhattan</td><td>Clinton East</td><td>Yellow Zone</td><td>Manhattan</td><td>West Chelsea/Hudson Yards</td><td>Yellow Zone</td><td>7.7631578947368425</td></tr><tr><td>151</td><td>50</td><td>2.9</td><td>1.0</td><td>16.55</td><td>1.25</td><td>0.1978605731941662</td><td>1.0</td><td>0.7097987720481241</td><td>Manhattan</td><td>Clinton West</td><td>Yellow Zone</td><td>Manhattan</td><td>Manhattan Valley</td><td>Yellow Zone</td><td>5.706896551724139</td></tr><tr><td>90</td><td>132</td><td>19.19</td><td>2.0</td><td>75.72</td><td>60.42</td><td>9.563788665913217</td><td>17.290000000000003</td><td>12.272420768712069</td><td>Queens</td><td>JFK Airport</td><td>Airports</td><td>Manhattan</td><td>Flatiron</td><td>Yellow Zone</td><td>3.9458051068264717</td></tr><tr><td>164</td><td>132</td><td>16.8</td><td>2.0</td><td>63.1</td><td>47.8</td><td>7.566188318944914</td><td>14.9</td><td>10.57600170351705</td><td>Queens</td><td>JFK Airport</td><td>Airports</td><td>Manhattan</td><td>Midtown South</td><td>Yellow Zone</td><td>3.755952380952381</td></tr><tr><td>140</td><td>137</td><td>2.1</td><td>1.0</td><td>11.3</td><td>4.0</td><td>0.6331538342213318</td><td>0.20000000000000018</td><td>0.14195975440962497</td><td>Manhattan</td><td>Kips Bay</td><td>Yellow Zone</td><td>Manhattan</td><td>Lenox Hill East</td><td>Yellow Zone</td><td>5.380952380952381</td></tr><tr><td>74</td><td>236</td><td>2.2</td><td>1.0</td><td>12.74</td><td>2.5600000000000005</td><td>0.40521845390165245</td><td>0.30000000000000027</td><td>0.21293963161443744</td><td>Manhattan</td><td>Upper East Side North</td><td>Yellow Zone</td><td>Manhattan</td><td>East Harlem North</td><td>Boro Zone</td><td>5.79090909090909</td></tr><tr><td>135</td><td>138</td><td>6.0</td><td>1.0</td><td>26.45</td><td>11.149999999999999</td><td>1.7649163128919623</td><td>4.1</td><td>2.910174965397309</td><td>Queens</td><td>LaGuardia Airport</td><td>Airports</td><td>Queens</td><td>Kew Gardens Hills</td><td>Boro Zone</td><td>4.408333333333333</td></tr><tr><td>164</td><td>132</td><td>16.8</td><td>1.0</td><td>78.85</td><td>63.55</td><td>10.059231541191409</td><td>14.9</td><td>10.57600170351705</td><td>Queens</td><td>JFK Airport</td><td>Airports</td><td>Manhattan</td><td>Midtown South</td><td>Yellow Zone</td><td>4.6934523809523805</td></tr><tr><td>255</td><td>234</td><td>4.8</td><td>1.0</td><td>21.8</td><td>6.5</td><td>1.0288749806096642</td><td>2.9</td><td>2.05841643893956</td><td>Manhattan</td><td>Union Sq</td><td>Yellow Zone</td><td>Brooklyn</td><td>Williamsburg (North Side)</td><td>Boro Zone</td><td>4.541666666666667</td></tr><tr><td>114</td><td>162</td><td>2.02</td><td>1.0</td><td>14.16</td><td>1.1400000000000006</td><td>0.18044884275307965</td><td>0.1200000000000001</td><td>0.08517585264577497</td><td>Manhattan</td><td>Midtown East</td><td>Yellow Zone</td><td>Manhattan</td><td>Greenwich Village South</td><td>Yellow Zone</td><td>7.00990099009901</td></tr><tr><td>231</td><td>114</td><td>0.97</td><td>1.0</td><td>10.3</td><td>5.0</td><td>0.7914422927766648</td><td>0.9299999999999999</td><td>0.6601128580047554</td><td>Manhattan</td><td>Greenwich Village South</td><td>Yellow Zone</td><td>Manhattan</td><td>TriBeCa/Civic Center</td><td>Yellow Zone</td><td>10.61855670103093</td></tr><tr><td>144</td><td>231</td><td>0.9</td><td>1.0</td><td>9.3</td><td>6.0</td><td>0.9497307513319977</td><td>0.9999999999999999</td><td>0.7097987720481241</td><td>Manhattan</td><td>TriBeCa/Civic Center</td><td>Yellow Zone</td><td>Manhattan</td><td>Little Italy/NoLiTa</td><td>Yellow Zone</td><td>10.333333333333334</td></tr><tr><td>140</td><td>144</td><td>5.02</td><td>1.0</td><td>23.8</td><td>8.5</td><td>1.34545189772033</td><td>3.1199999999999997</td><td>2.214572168790147</td><td>Manhattan</td><td>Little Italy/NoLiTa</td><td>Yellow Zone</td><td>Manhattan</td><td>Lenox Hill East</td><td>Yellow Zone</td><td>4.741035856573705</td></tr><tr><td>151</td><td>238</td><td>1.27</td><td>2.0</td><td>10.3</td><td>5.0</td><td>0.7914422927766648</td><td>0.6299999999999999</td><td>0.44717322639031815</td><td>Manhattan</td><td>Upper West Side North</td><td>Yellow Zone</td><td>Manhattan</td><td>Manhattan Valley</td><td>Yellow Zone</td><td>8.11023622047244</td></tr><tr><td>262</td><td>231</td><td>6.85</td><td>1.0</td><td>28.8</td><td>13.5</td><td>2.136894190496995</td><td>4.949999999999999</td><td>3.5135039216382142</td><td>Manhattan</td><td>TriBeCa/Civic Center</td><td>Yellow Zone</td><td>Manhattan</td><td>Yorkville East</td><td>Yellow Zone</td><td>4.204379562043796</td></tr><tr><td>262</td><td>229</td><td>1.98</td><td>4.0</td><td>14.76</td><td>0.5400000000000009</td><td>0.08547576761987995</td><td>0.08000000000000007</td><td>0.05678390176384998</td><td>Manhattan</td><td>Sutton Place/Turtle Bay North</td><td>Yellow Zone</td><td>Manhattan</td><td>Yorkville East</td><td>Yellow Zone</td><td>7.454545454545454</td></tr><tr><td>142</td><td>162</td><td>1.57</td><td>4.0</td><td>12.8</td><td>2.5</td><td>0.3957211463883324</td><td>0.32999999999999985</td><td>0.23423359477588088</td><td>Manhattan</td><td>Midtown East</td><td>Yellow Zone</td><td>Manhattan</td><td>Lincoln Square East</td><td>Yellow Zone</td><td>8.152866242038217</td></tr><tr><td>188</td><td>132</td><td>16.0</td><td>1.0</td><td>57.65</td><td>42.349999999999994</td><td>6.70351621981835</td><td>14.1</td><td>10.00816268587855</td><td>Queens</td><td>JFK Airport</td><td>Airports</td><td>Brooklyn</td><td>Prospect-Lefferts Gardens</td><td>Boro Zone</td><td>3.603125</td></tr><tr><td>226</td><td>237</td><td>2.65</td><td>1.0</td><td>13.8</td><td>1.5</td><td>0.23743268783299942</td><td>0.75</td><td>0.5323490790360931</td><td>Manhattan</td><td>Upper East Side South</td><td>Yellow Zone</td><td>Queens</td><td>Sunnyside</td><td>Boro Zone</td><td>5.207547169811321</td></tr><tr><td>113</td><td>100</td><td>1.8</td><td>1.0</td><td>12.8</td><td>2.5</td><td>0.3957211463883324</td><td>0.09999999999999987</td><td>0.07097987720481232</td><td>Manhattan</td><td>Garment District</td><td>Yellow Zone</td><td>Manhattan</td><td>Greenwich Village North</td><td>Yellow Zone</td><td>7.111111111111112</td></tr><tr><td>143</td><td>163</td><td>0.9</td><td>1.0</td><td>11.15</td><td>4.15</td><td>0.6568971030046318</td><td>0.9999999999999999</td><td>0.7097987720481241</td><td>Manhattan</td><td>Midtown North</td><td>Yellow Zone</td><td>Manhattan</td><td>Lincoln Square West</td><td>Yellow Zone</td><td>12.38888888888889</td></tr><tr><td>92</td><td>264</td><td>4.03</td><td>2.0</td><td>19.56</td><td>4.259999999999998</td><td>0.674308833445718</td><td>2.1300000000000003</td><td>1.5118713844625047</td><td>Unknown</td><td>NV</td><td>null</td><td>Queens</td><td>Flushing</td><td>Boro Zone</td><td>4.853598014888337</td></tr><tr><td>92</td><td>138</td><td>3.8</td><td>1.0</td><td>16.05</td><td>0.75</td><td>0.11871634391649971</td><td>1.9</td><td>1.3486176668914358</td><td>Queens</td><td>LaGuardia Airport</td><td>Airports</td><td>Queens</td><td>Flushing</td><td>Boro Zone</td><td>4.223684210526316</td></tr><tr><td>42</td><td>132</td><td>23.57</td><td>5.0</td><td>63.1</td><td>47.8</td><td>7.566188318944914</td><td>21.67</td><td>15.381339390282852</td><td>Queens</td><td>JFK Airport</td><td>Airports</td><td>Manhattan</td><td>Central Harlem North</td><td>Boro Zone</td><td>2.677131947390751</td></tr><tr><td>263</td><td>140</td><td>0.58</td><td>3.0</td><td>9.36</td><td>5.940000000000001</td><td>0.9402334438186779</td><td>1.3199999999999998</td><td>0.9369343791035238</td><td>Manhattan</td><td>Lenox Hill East</td><td>Yellow Zone</td><td>Manhattan</td><td>Yorkville West</td><td>Yellow Zone</td><td>16.137931034482758</td></tr><tr><td>249</td><td>263</td><td>4.93</td><td>1.0</td><td>19.3</td><td>4.0</td><td>0.6331538342213318</td><td>3.03</td><td>2.1506902793058162</td><td>Manhattan</td><td>Yorkville West</td><td>Yellow Zone</td><td>Manhattan</td><td>West Village</td><td>Yellow Zone</td><td>3.9148073022312375</td></tr><tr><td>141</td><td>125</td><td>4.46</td><td>2.0</td><td>21.36</td><td>6.059999999999999</td><td>0.9592280588453175</td><td>2.56</td><td>1.8170848564431978</td><td>Manhattan</td><td>Hudson Sq</td><td>Yellow Zone</td><td>Manhattan</td><td>Lenox Hill West</td><td>Yellow Zone</td><td>4.789237668161435</td></tr><tr><td>264</td><td>264</td><td>1.72</td><td>2.0</td><td>12.3</td><td>3.0</td><td>0.47486537566599885</td><td>0.17999999999999994</td><td>0.1277637789686623</td><td>Unknown</td><td>NV</td><td>null</td><td>Unknown</td><td>NV</td><td>null</td><td>7.151162790697675</td></tr><tr><td>264</td><td>264</td><td>4.91</td><td>2.0</td><td>25.74</td><td>10.439999999999998</td><td>1.6525315073176756</td><td>3.0100000000000002</td><td>2.136494303864854</td><td>Unknown</td><td>NV</td><td>null</td><td>Unknown</td><td>NV</td><td>null</td><td>5.242362525458248</td></tr><tr><td>230</td><td>132</td><td>18.37</td><td>2.0</td><td>56.55</td><td>41.25</td><td>6.5293989154074845</td><td>16.470000000000002</td><td>11.690385775632606</td><td>Queens</td><td>JFK Airport</td><td>Airports</td><td>Manhattan</td><td>Times Sq/Theatre District</td><td>Yellow Zone</td><td>3.078388677191072</td></tr><tr><td>262</td><td>263</td><td>0.56</td><td>5.0</td><td>7.8</td><td>7.500000000000001</td><td>1.1871634391649972</td><td>1.3399999999999999</td><td>0.9511303545444862</td><td>Manhattan</td><td>Yorkville West</td><td>Yellow Zone</td><td>Manhattan</td><td>Yorkville East</td><td>Yellow Zone</td><td>13.928571428571427</td></tr><tr><td>72</td><td>132</td><td>12.11</td><td>1.0</td><td>46.01</td><td>30.709999999999997</td><td>4.861038562234275</td><td>10.209999999999999</td><td>7.247045462611347</td><td>Queens</td><td>JFK Airport</td><td>Airports</td><td>Brooklyn</td><td>East Flatbush/Remsen Village</td><td>Boro Zone</td><td>3.7993393889347646</td></tr><tr><td>90</td><td>79</td><td>1.78</td><td>2.0</td><td>16.56</td><td>1.259999999999998</td><td>0.1994434577797192</td><td>0.11999999999999988</td><td>0.08517585264577482</td><td>Manhattan</td><td>East Village</td><td>Yellow Zone</td><td>Manhattan</td><td>Flatiron</td><td>Yellow Zone</td><td>9.303370786516853</td></tr><tr><td>43</td><td>246</td><td>6.13</td><td>2.0</td><td>31.0</td><td>15.7</td><td>2.485128799318727</td><td>4.23</td><td>3.0024488057635654</td><td>Manhattan</td><td>West Chelsea/Hudson Yards</td><td>Yellow Zone</td><td>Manhattan</td><td>Central Park</td><td>Yellow Zone</td><td>5.057096247960849</td></tr><tr><td>42</td><td>239</td><td>3.22</td><td>2.0</td><td>15.8</td><td>0.5</td><td>0.07914422927766647</td><td>1.3200000000000003</td><td>0.9369343791035241</td><td>Manhattan</td><td>Upper West Side South</td><td>Yellow Zone</td><td>Manhattan</td><td>Central Harlem North</td><td>Boro Zone</td><td>4.906832298136646</td></tr><tr><td>146</td><td>137</td><td>3.6</td><td>2.0</td><td>17.8</td><td>2.5</td><td>0.3957211463883324</td><td>1.7000000000000002</td><td>1.2066579124818113</td><td>Manhattan</td><td>Kips Bay</td><td>Yellow Zone</td><td>Queens</td><td>Long Island City/Queens Plaza</td><td>Boro Zone</td><td>4.944444444444445</td></tr><tr><td>90</td><td>138</td><td>11.13</td><td>2.0</td><td>46.1</td><td>30.8</td><td>4.875284523504255</td><td>9.23</td><td>6.551442666004187</td><td>Queens</td><td>LaGuardia Airport</td><td>Airports</td><td>Manhattan</td><td>Flatiron</td><td>Yellow Zone</td><td>4.141958670260557</td></tr><tr><td>226</td><td>79</td><td>5.68</td><td>1.0</td><td>22.8</td><td>7.5</td><td>1.1871634391649972</td><td>3.78</td><td>2.683039358341909</td><td>Manhattan</td><td>East Village</td><td>Yellow Zone</td><td>Queens</td><td>Sunnyside</td><td>Boro Zone</td><td>4.014084507042254</td></tr><tr><td>151</td><td>43</td><td>1.0</td><td>1.0</td><td>8.16</td><td>7.140000000000001</td><td>1.1301795940850774</td><td>0.8999999999999999</td><td>0.6388188948433117</td><td>Manhattan</td><td>Central Park</td><td>Yellow Zone</td><td>Manhattan</td><td>Manhattan Valley</td><td>Yellow Zone</td><td>8.16</td></tr><tr><td>244</td><td>161</td><td>8.1</td><td>1.0</td><td>36.0</td><td>20.7</td><td>3.276571092095392</td><td>6.199999999999999</td><td>4.400752386698369</td><td>Manhattan</td><td>Midtown Center</td><td>Yellow Zone</td><td>Manhattan</td><td>Washington Heights South</td><td>Boro Zone</td><td>4.444444444444445</td></tr><tr><td>230</td><td>164</td><td>0.9</td><td>0.0</td><td>10.56</td><td>4.74</td><td>0.7502872935522782</td><td>0.9999999999999999</td><td>0.7097987720481241</td><td>Manhattan</td><td>Midtown South</td><td>Yellow Zone</td><td>Manhattan</td><td>Times Sq/Theatre District</td><td>Yellow Zone</td><td>11.733333333333334</td></tr><tr><td>239</td><td>48</td><td>1.8</td><td>0.0</td><td>13.8</td><td>1.5</td><td>0.23743268783299942</td><td>0.09999999999999987</td><td>0.07097987720481232</td><td>Manhattan</td><td>Clinton East</td><td>Yellow Zone</td><td>Manhattan</td><td>Upper West Side South</td><td>Yellow Zone</td><td>7.666666666666667</td></tr><tr><td>43</td><td>163</td><td>18.17</td><td>1.0</td><td>75.79</td><td>60.49000000000001</td><td>9.574868858012092</td><td>16.270000000000003</td><td>11.548426021222982</td><td>Manhattan</td><td>Midtown North</td><td>Yellow Zone</td><td>Manhattan</td><td>Central Park</td><td>Yellow Zone</td><td>4.1711612548156305</td></tr><tr><td>142</td><td>138</td><td>10.64</td><td>1.0</td><td>51.12</td><td>35.81999999999999</td><td>5.6698925854520255</td><td>8.74</td><td>6.203641267700605</td><td>Queens</td><td>LaGuardia Airport</td><td>Airports</td><td>Manhattan</td><td>Lincoln Square East</td><td>Yellow Zone</td><td>4.804511278195489</td></tr><tr><td>141</td><td>170</td><td>1.74</td><td>1.0</td><td>14.12</td><td>1.1800000000000015</td><td>0.18678038109529313</td><td>0.15999999999999992</td><td>0.11356780352769981</td><td>Manhattan</td><td>Murray Hill</td><td>Yellow Zone</td><td>Manhattan</td><td>Lenox Hill West</td><td>Yellow Zone</td><td>8.114942528735632</td></tr><tr><td>228</td><td>132</td><td>22.0</td><td>2.0</td><td>77.55</td><td>62.25</td><td>9.853456545069477</td><td>20.1</td><td>14.266955318167296</td><td>Queens</td><td>JFK Airport</td><td>Airports</td><td>Brooklyn</td><td>Sunset Park West</td><td>Boro Zone</td><td>3.525</td></tr><tr><td>113</td><td>132</td><td>17.99</td><td>1.0</td><td>75.72</td><td>60.42</td><td>9.563788665913217</td><td>16.09</td><td>11.420662242254318</td><td>Queens</td><td>JFK Airport</td><td>Airports</td><td>Manhattan</td><td>Greenwich Village North</td><td>Yellow Zone</td><td>4.209005002779322</td></tr><tr><td>74</td><td>246</td><td>5.4</td><td>1.0</td><td>26.16</td><td>10.86</td><td>1.7190126599109157</td><td>3.5000000000000004</td><td>2.484295702168435</td><td>Manhattan</td><td>West Chelsea/Hudson Yards</td><td>Yellow Zone</td><td>Manhattan</td><td>East Harlem North</td><td>Boro Zone</td><td>4.844444444444444</td></tr><tr><td>141</td><td>263</td><td>0.8</td><td>4.0</td><td>11.0</td><td>4.300000000000001</td><td>0.6806403717879318</td><td>1.0999999999999999</td><td>0.7807786492529365</td><td>Manhattan</td><td>Yorkville West</td><td>Yellow Zone</td><td>Manhattan</td><td>Lenox Hill West</td><td>Yellow Zone</td><td>13.75</td></tr><tr><td>74</td><td>141</td><td>2.1</td><td>1.0</td><td>11.8</td><td>3.5</td><td>0.5540096049436654</td><td>0.20000000000000018</td><td>0.14195975440962497</td><td>Manhattan</td><td>Lenox Hill West</td><td>Yellow Zone</td><td>Manhattan</td><td>East Harlem North</td><td>Boro Zone</td><td>5.6190476190476195</td></tr><tr><td>263</td><td>162</td><td>2.67</td><td>1.0</td><td>15.36</td><td>0.05999999999999872</td><td>0.009497307513319776</td><td>0.77</td><td>0.5465450544770556</td><td>Manhattan</td><td>Midtown East</td><td>Yellow Zone</td><td>Manhattan</td><td>Yorkville West</td><td>Yellow Zone</td><td>5.752808988764045</td></tr><tr><td>233</td><td>141</td><td>1.99</td><td>1.0</td><td>14.12</td><td>1.1800000000000015</td><td>0.18678038109529313</td><td>0.09000000000000008</td><td>0.06388188948433123</td><td>Manhattan</td><td>Lenox Hill West</td><td>Yellow Zone</td><td>Manhattan</td><td>UN/Turtle Bay South</td><td>Yellow Zone</td><td>7.0954773869346734</td></tr><tr><td>261</td><td>114</td><td>1.64</td><td>1.0</td><td>12.96</td><td>2.34</td><td>0.3703949930194791</td><td>0.26</td><td>0.1845476807325123</td><td>Manhattan</td><td>Greenwich Village South</td><td>Yellow Zone</td><td>Manhattan</td><td>World Trade Center</td><td>Yellow Zone</td><td>7.902439024390245</td></tr><tr><td>246</td><td>211</td><td>2.36</td><td>1.0</td><td>16.56</td><td>1.259999999999998</td><td>0.1994434577797192</td><td>0.45999999999999996</td><td>0.3265074351421371</td><td>Manhattan</td><td>SoHo</td><td>Yellow Zone</td><td>Manhattan</td><td>West Chelsea/Hudson Yards</td><td>Yellow Zone</td><td>7.016949152542373</td></tr><tr><td>79</td><td>246</td><td>2.27</td><td>1.0</td><td>16.56</td><td>1.259999999999998</td><td>0.1994434577797192</td><td>0.3700000000000001</td><td>0.262625545657806</td><td>Manhattan</td><td>West Chelsea/Hudson Yards</td><td>Yellow Zone</td><td>Manhattan</td><td>East Village</td><td>Yellow Zone</td><td>7.295154185022025</td></tr><tr><td>179</td><td>230</td><td>4.63</td><td>1.0</td><td>24.36</td><td>9.059999999999999</td><td>1.4340934345113163</td><td>2.73</td><td>1.937750647691379</td><td>Manhattan</td><td>Times Sq/Theatre District</td><td>Yellow Zone</td><td>Queens</td><td>Old Astoria</td><td>Boro Zone</td><td>5.2613390928725705</td></tr><tr><td>237</td><td>75</td><td>2.74</td><td>1.0</td><td>13.8</td><td>1.5</td><td>0.23743268783299942</td><td>0.8400000000000003</td><td>0.5962309685204246</td><td>Manhattan</td><td>East Harlem South</td><td>Boro Zone</td><td>Manhattan</td><td>Upper East Side South</td><td>Yellow Zone</td><td>5.036496350364963</td></tr><tr><td>107</td><td>137</td><td>0.69</td><td>1.0</td><td>10.0</td><td>5.300000000000001</td><td>0.8389288303432647</td><td>1.21</td><td>0.8588565141782302</td><td>Manhattan</td><td>Kips Bay</td><td>Yellow Zone</td><td>Manhattan</td><td>Gramercy</td><td>Yellow Zone</td><td>14.492753623188406</td></tr><tr><td>88</td><td>79</td><td>3.9</td><td>1.0</td><td>19.3</td><td>4.0</td><td>0.6331538342213318</td><td>2.0</td><td>1.4195975440962483</td><td>Manhattan</td><td>East Village</td><td>Yellow Zone</td><td>Manhattan</td><td>Financial District South</td><td>Yellow Zone</td><td>4.948717948717949</td></tr><tr><td>61</td><td>132</td><td>9.83</td><td>1.0</td><td>32.05</td><td>16.749999999999996</td><td>2.6513316808018264</td><td>7.93</td><td>5.628704262341625</td><td>Queens</td><td>JFK Airport</td><td>Airports</td><td>Brooklyn</td><td>Crown Heights North</td><td>Boro Zone</td><td>3.260427263479145</td></tr><tr><td>107</td><td>246</td><td>1.9</td><td>2.0</td><td>15.35</td><td>0.049999999999998934</td><td>0.007914422927766479</td><td>0.0</td><td>0.0</td><td>Manhattan</td><td>West Chelsea/Hudson Yards</td><td>Yellow Zone</td><td>Manhattan</td><td>Gramercy</td><td>Yellow Zone</td><td>8.078947368421053</td></tr><tr><td>161</td><td>170</td><td>1.2</td><td>2.0</td><td>10.3</td><td>5.0</td><td>0.7914422927766648</td><td>0.7</td><td>0.4968591404336869</td><td>Manhattan</td><td>Murray Hill</td><td>Yellow Zone</td><td>Manhattan</td><td>Midtown Center</td><td>Yellow Zone</td><td>8.583333333333334</td></tr><tr><td>48</td><td>13</td><td>4.2</td><td>1.0</td><td>21.95</td><td>6.649999999999999</td><td>1.052618249392964</td><td>2.3000000000000003</td><td>1.6325371757106857</td><td>Manhattan</td><td>Battery Park City</td><td>Yellow Zone</td><td>Manhattan</td><td>Clinton East</td><td>Yellow Zone</td><td>5.226190476190475</td></tr><tr><td>68</td><td>249</td><td>1.4</td><td>1.0</td><td>12.85</td><td>2.450000000000001</td><td>0.3878067234605659</td><td>0.5</td><td>0.35489938602406207</td><td>Manhattan</td><td>West Village</td><td>Yellow Zone</td><td>Manhattan</td><td>East Chelsea</td><td>Yellow Zone</td><td>9.178571428571429</td></tr><tr><td>4</td><td>48</td><td>3.11</td><td>2.0</td><td>20.76</td><td>5.460000000000001</td><td>0.8642549837121181</td><td>1.21</td><td>0.8588565141782302</td><td>Manhattan</td><td>Clinton East</td><td>Yellow Zone</td><td>Manhattan</td><td>Alphabet City</td><td>Yellow Zone</td><td>6.675241157556271</td></tr><tr><td>140</td><td>79</td><td>2.84</td><td>3.0</td><td>16.62</td><td>1.3200000000000003</td><td>0.20894076529303954</td><td>0.94</td><td>0.6672108457252367</td><td>Manhattan</td><td>East Village</td><td>Yellow Zone</td><td>Manhattan</td><td>Lenox Hill East</td><td>Yellow Zone</td><td>5.852112676056339</td></tr><tr><td>116</td><td>41</td><td>2.0</td><td>1.0</td><td>10.8</td><td>4.5</td><td>0.7122980634989983</td><td>0.10000000000000009</td><td>0.07097987720481248</td><td>Manhattan</td><td>Central Harlem</td><td>Boro Zone</td><td>Manhattan</td><td>Hamilton Heights</td><td>Boro Zone</td><td>5.4</td></tr><tr><td>151</td><td>116</td><td>2.0</td><td>1.0</td><td>14.3</td><td>1.0</td><td>0.15828845855533294</td><td>0.10000000000000009</td><td>0.07097987720481248</td><td>Manhattan</td><td>Hamilton Heights</td><td>Boro Zone</td><td>Manhattan</td><td>Manhattan Valley</td><td>Yellow Zone</td><td>7.15</td></tr></tbody></table></div>"
      ]
     },
     "metadata": {
      "application/vnd.databricks.v1+output": {
       "addedWidgets": {},
       "aggData": [],
       "aggError": "",
       "aggOverflow": false,
       "aggSchema": [],
       "aggSeriesLimitReached": false,
       "aggType": "",
       "arguments": {},
       "columnCustomDisplayInfos": {},
       "data": [
        [
         68,
         90,
         0.8,
         1.0,
         8.8,
         6.5,
         1.0288749806096642,
         1.0999999999999999,
         0.7807786492529365,
         "Manhattan",
         "Flatiron",
         "Yellow Zone",
         "Manhattan",
         "East Chelsea",
         "Yellow Zone",
         11.0
        ],
        [
         90,
         113,
         0.9,
         1.0,
         8.8,
         6.5,
         1.0288749806096642,
         0.9999999999999999,
         0.7097987720481241,
         "Manhattan",
         "Greenwich Village North",
         "Yellow Zone",
         "Manhattan",
         "Flatiron",
         "Yellow Zone",
         9.777777777777779
        ],
        [
         232,
         88,
         2.8,
         1.0,
         13.8,
         1.5,
         0.23743268783299942,
         0.8999999999999999,
         0.6388188948433117,
         "Manhattan",
         "Financial District South",
         "Yellow Zone",
         "Manhattan",
         "Two Bridges/Seward Park",
         "Yellow Zone",
         4.928571428571429
        ],
        [
         249,
         79,
         1.4,
         1.0,
         12.3,
         3.0,
         0.47486537566599885,
         0.5,
         0.35489938602406207,
         "Manhattan",
         "East Village",
         "Yellow Zone",
         "Manhattan",
         "West Village",
         "Yellow Zone",
         8.785714285714286
        ],
        [
         238,
         142,
         2.0,
         0.0,
         12.3,
         3.0,
         0.47486537566599885,
         0.10000000000000009,
         0.07097987720481248,
         "Manhattan",
         "Lincoln Square East",
         "Yellow Zone",
         "Manhattan",
         "Upper West Side North",
         "Yellow Zone",
         6.15
        ],
        [
         90,
         114,
         1.6,
         1.0,
         12.8,
         2.5,
         0.3957211463883324,
         0.2999999999999998,
         0.21293963161443713,
         "Manhattan",
         "Greenwich Village South",
         "Yellow Zone",
         "Manhattan",
         "Flatiron",
         "Yellow Zone",
         8.0
        ],
        [
         144,
         90,
         1.8,
         1.0,
         13.3,
         2.0,
         0.3165769171106659,
         0.09999999999999987,
         0.07097987720481232,
         "Manhattan",
         "Flatiron",
         "Yellow Zone",
         "Manhattan",
         "Little Italy/NoLiTa",
         "Yellow Zone",
         7.388888888888889
        ],
        [
         48,
         114,
         2.0,
         1.0,
         14.75,
         0.5500000000000007,
         0.08705865220543324,
         0.10000000000000009,
         0.07097987720481248,
         "Manhattan",
         "Greenwich Village South",
         "Yellow Zone",
         "Manhattan",
         "Clinton East",
         "Yellow Zone",
         7.375
        ],
        [
         152,
         48,
         5.7,
         1.0,
         22.3,
         7.0,
         1.1080192098873307,
         3.8000000000000003,
         2.697235333782872,
         "Manhattan",
         "Clinton East",
         "Yellow Zone",
         "Manhattan",
         "Manhattanville",
         "Boro Zone",
         3.912280701754386
        ],
        [
         148,
         234,
         1.8,
         1.0,
         14.75,
         0.5500000000000007,
         0.08705865220543324,
         0.09999999999999987,
         0.07097987720481232,
         "Manhattan",
         "Union Sq",
         "Yellow Zone",
         "Manhattan",
         "Lower East Side",
         "Yellow Zone",
         8.194444444444445
        ],
        [
         141,
         79,
         3.5,
         2.0,
         17.3,
         2.0,
         0.3165769171106659,
         1.6,
         1.1356780352769986,
         "Manhattan",
         "East Village",
         "Yellow Zone",
         "Manhattan",
         "Lenox Hill West",
         "Yellow Zone",
         4.942857142857143
        ],
        [
         69,
         138,
         7.5,
         1.0,
         37.3,
         21.999999999999996,
         3.4823460882173243,
         5.6,
         3.974873123469495,
         "Queens",
         "LaGuardia Airport",
         "Airports",
         "Bronx",
         "East Concourse/Concourse Village",
         "Boro Zone",
         4.973333333333333
        ],
        [
         164,
         230,
         1.02,
         1.0,
         10.3,
         5.0,
         0.7914422927766648,
         0.8799999999999999,
         0.6246229194023492,
         "Manhattan",
         "Times Sq/Theatre District",
         "Yellow Zone",
         "Manhattan",
         "Midtown South",
         "Yellow Zone",
         10.098039215686274
        ],
        [
         79,
         249,
         1.15,
         1.0,
         14.16,
         1.1400000000000006,
         0.18044884275307965,
         0.75,
         0.5323490790360931,
         "Manhattan",
         "West Village",
         "Yellow Zone",
         "Manhattan",
         "East Village",
         "Yellow Zone",
         12.313043478260871
        ],
        [
         90,
         48,
         2.16,
         1.0,
         14.3,
         1.0,
         0.15828845855533294,
         0.26000000000000023,
         0.18454768073251246,
         "Manhattan",
         "Clinton East",
         "Yellow Zone",
         "Manhattan",
         "Flatiron",
         "Yellow Zone",
         6.62037037037037
        ],
        [
         48,
         90,
         1.07,
         1.0,
         9.55,
         5.75,
         0.9101586366931644,
         0.8299999999999998,
         0.5891329807999429,
         "Manhattan",
         "Flatiron",
         "Yellow Zone",
         "Manhattan",
         "Clinton East",
         "Yellow Zone",
         8.925233644859814
        ],
        [
         238,
         142,
         1.56,
         1.0,
         12.36,
         2.9400000000000013,
         0.46536806815267906,
         0.33999999999999986,
         0.2413315824963621,
         "Manhattan",
         "Lincoln Square East",
         "Yellow Zone",
         "Manhattan",
         "Upper West Side North",
         "Yellow Zone",
         7.9230769230769225
        ],
        [
         98,
         132,
         8.5,
         3.0,
         27.05,
         11.75,
         1.8598893880251621,
         6.6,
         4.684671895517619,
         "Queens",
         "JFK Airport",
         "Airports",
         "Queens",
         "Fresh Meadows",
         "Boro Zone",
         3.182352941176471
        ],
        [
         222,
         132,
         8.4,
         3.0,
         27.55,
         12.25,
         1.9390336173028286,
         6.5,
         4.613692018312807,
         "Queens",
         "JFK Airport",
         "Airports",
         "Brooklyn",
         "Starrett City",
         "Boro Zone",
         3.2797619047619047
        ],
        [
         74,
         132,
         17.07,
         1.0,
         70.6,
         55.3,
         8.753351758109911,
         15.17,
         10.767647371970044,
         "Queens",
         "JFK Airport",
         "Airports",
         "Manhattan",
         "East Harlem North",
         "Boro Zone",
         4.135910954891623
        ],
        [
         161,
         48,
         0.8,
         1.0,
         11.0,
         4.300000000000001,
         0.6806403717879318,
         1.0999999999999999,
         0.7807786492529365,
         "Manhattan",
         "Clinton East",
         "Yellow Zone",
         "Manhattan",
         "Midtown Center",
         "Yellow Zone",
         13.75
        ],
        [
         179,
         107,
         5.1,
         1.0,
         25.55,
         10.25,
         1.6224567001921628,
         3.1999999999999997,
         2.2713560705539972,
         "Manhattan",
         "Gramercy",
         "Yellow Zone",
         "Queens",
         "Old Astoria",
         "Boro Zone",
         5.009803921568628
        ],
        [
         246,
         13,
         2.34,
         1.0,
         15.96,
         0.6600000000000001,
         0.10447038264651977,
         0.43999999999999995,
         0.3123114597011746,
         "Manhattan",
         "Battery Park City",
         "Yellow Zone",
         "Manhattan",
         "West Chelsea/Hudson Yards",
         "Yellow Zone",
         6.820512820512821
        ],
        [
         232,
         68,
         5.79,
         1.0,
         34.12,
         18.819999999999997,
         2.978988790011366,
         3.89,
         2.761117223267203,
         "Manhattan",
         "East Chelsea",
         "Yellow Zone",
         "Manhattan",
         "Two Bridges/Seward Park",
         "Yellow Zone",
         5.8929188255613125
        ],
        [
         239,
         138,
         10.0,
         1.0,
         49.3,
         34.0,
         5.38180759088132,
         8.1,
         5.749370053589805,
         "Queens",
         "LaGuardia Airport",
         "Airports",
         "Manhattan",
         "Upper West Side South",
         "Yellow Zone",
         4.93
        ],
        [
         239,
         142,
         0.6,
         1.0,
         9.95,
         5.350000000000001,
         0.8468432532710315,
         1.2999999999999998,
         0.9227384036625613,
         "Manhattan",
         "Lincoln Square East",
         "Yellow Zone",
         "Manhattan",
         "Upper West Side South",
         "Yellow Zone",
         16.583333333333332
        ],
        [
         87,
         107,
         4.0,
         1.0,
         18.3,
         3.0,
         0.47486537566599885,
         2.1,
         1.4905774213010607,
         "Manhattan",
         "Gramercy",
         "Yellow Zone",
         "Manhattan",
         "Financial District North",
         "Yellow Zone",
         4.575
        ],
        [
         142,
         231,
         5.0,
         1.0,
         24.35,
         9.05,
         1.4325105499257633,
         3.1,
         2.200376193349185,
         "Manhattan",
         "TriBeCa/Civic Center",
         "Yellow Zone",
         "Manhattan",
         "Lincoln Square East",
         "Yellow Zone",
         4.87
        ],
        [
         158,
         132,
         18.6,
         1.0,
         73.1,
         57.8,
         9.149072904498244,
         16.700000000000003,
         11.853639493203676,
         "Queens",
         "JFK Airport",
         "Airports",
         "Manhattan",
         "Meatpacking/West Village West",
         "Yellow Zone",
         3.9301075268817196
        ],
        [
         141,
         158,
         3.7,
         1.0,
         20.75,
         5.449999999999999,
         0.8626720991265645,
         1.8000000000000003,
         1.2776377896866238,
         "Manhattan",
         "Meatpacking/West Village West",
         "Yellow Zone",
         "Manhattan",
         "Lenox Hill West",
         "Yellow Zone",
         5.608108108108108
        ],
        [
         50,
         75,
         3.56,
         1.0,
         17.3,
         2.0,
         0.3165769171106659,
         1.6600000000000001,
         1.1782659615998863,
         "Manhattan",
         "East Harlem South",
         "Boro Zone",
         "Manhattan",
         "Clinton West",
         "Yellow Zone",
         4.859550561797753
        ],
        [
         74,
         61,
         14.23,
         5.0,
         50.8,
         35.5,
         5.61924027871432,
         12.33,
         8.75181885935337,
         "Brooklyn",
         "Crown Heights North",
         "Boro Zone",
         "Manhattan",
         "East Harlem North",
         "Boro Zone",
         3.5699226985242443
        ],
        [
         246,
         48,
         1.9,
         2.0,
         14.75,
         0.5500000000000007,
         0.08705865220543324,
         0.0,
         0.0,
         "Manhattan",
         "Clinton East",
         "Yellow Zone",
         "Manhattan",
         "West Chelsea/Hudson Yards",
         "Yellow Zone",
         7.7631578947368425
        ],
        [
         151,
         50,
         2.9,
         1.0,
         16.55,
         1.25,
         0.1978605731941662,
         1.0,
         0.7097987720481241,
         "Manhattan",
         "Clinton West",
         "Yellow Zone",
         "Manhattan",
         "Manhattan Valley",
         "Yellow Zone",
         5.706896551724139
        ],
        [
         90,
         132,
         19.19,
         2.0,
         75.72,
         60.42,
         9.563788665913217,
         17.290000000000003,
         12.272420768712069,
         "Queens",
         "JFK Airport",
         "Airports",
         "Manhattan",
         "Flatiron",
         "Yellow Zone",
         3.9458051068264717
        ],
        [
         164,
         132,
         16.8,
         2.0,
         63.1,
         47.8,
         7.566188318944914,
         14.9,
         10.57600170351705,
         "Queens",
         "JFK Airport",
         "Airports",
         "Manhattan",
         "Midtown South",
         "Yellow Zone",
         3.755952380952381
        ],
        [
         140,
         137,
         2.1,
         1.0,
         11.3,
         4.0,
         0.6331538342213318,
         0.20000000000000018,
         0.14195975440962497,
         "Manhattan",
         "Kips Bay",
         "Yellow Zone",
         "Manhattan",
         "Lenox Hill East",
         "Yellow Zone",
         5.380952380952381
        ],
        [
         74,
         236,
         2.2,
         1.0,
         12.74,
         2.5600000000000005,
         0.40521845390165245,
         0.30000000000000027,
         0.21293963161443744,
         "Manhattan",
         "Upper East Side North",
         "Yellow Zone",
         "Manhattan",
         "East Harlem North",
         "Boro Zone",
         5.79090909090909
        ],
        [
         135,
         138,
         6.0,
         1.0,
         26.45,
         11.149999999999999,
         1.7649163128919623,
         4.1,
         2.910174965397309,
         "Queens",
         "LaGuardia Airport",
         "Airports",
         "Queens",
         "Kew Gardens Hills",
         "Boro Zone",
         4.408333333333333
        ],
        [
         164,
         132,
         16.8,
         1.0,
         78.85,
         63.55,
         10.059231541191409,
         14.9,
         10.57600170351705,
         "Queens",
         "JFK Airport",
         "Airports",
         "Manhattan",
         "Midtown South",
         "Yellow Zone",
         4.6934523809523805
        ],
        [
         255,
         234,
         4.8,
         1.0,
         21.8,
         6.5,
         1.0288749806096642,
         2.9,
         2.05841643893956,
         "Manhattan",
         "Union Sq",
         "Yellow Zone",
         "Brooklyn",
         "Williamsburg (North Side)",
         "Boro Zone",
         4.541666666666667
        ],
        [
         114,
         162,
         2.02,
         1.0,
         14.16,
         1.1400000000000006,
         0.18044884275307965,
         0.1200000000000001,
         0.08517585264577497,
         "Manhattan",
         "Midtown East",
         "Yellow Zone",
         "Manhattan",
         "Greenwich Village South",
         "Yellow Zone",
         7.00990099009901
        ],
        [
         231,
         114,
         0.97,
         1.0,
         10.3,
         5.0,
         0.7914422927766648,
         0.9299999999999999,
         0.6601128580047554,
         "Manhattan",
         "Greenwich Village South",
         "Yellow Zone",
         "Manhattan",
         "TriBeCa/Civic Center",
         "Yellow Zone",
         10.61855670103093
        ],
        [
         144,
         231,
         0.9,
         1.0,
         9.3,
         6.0,
         0.9497307513319977,
         0.9999999999999999,
         0.7097987720481241,
         "Manhattan",
         "TriBeCa/Civic Center",
         "Yellow Zone",
         "Manhattan",
         "Little Italy/NoLiTa",
         "Yellow Zone",
         10.333333333333334
        ],
        [
         140,
         144,
         5.02,
         1.0,
         23.8,
         8.5,
         1.34545189772033,
         3.1199999999999997,
         2.214572168790147,
         "Manhattan",
         "Little Italy/NoLiTa",
         "Yellow Zone",
         "Manhattan",
         "Lenox Hill East",
         "Yellow Zone",
         4.741035856573705
        ],
        [
         151,
         238,
         1.27,
         2.0,
         10.3,
         5.0,
         0.7914422927766648,
         0.6299999999999999,
         0.44717322639031815,
         "Manhattan",
         "Upper West Side North",
         "Yellow Zone",
         "Manhattan",
         "Manhattan Valley",
         "Yellow Zone",
         8.11023622047244
        ],
        [
         262,
         231,
         6.85,
         1.0,
         28.8,
         13.5,
         2.136894190496995,
         4.949999999999999,
         3.5135039216382142,
         "Manhattan",
         "TriBeCa/Civic Center",
         "Yellow Zone",
         "Manhattan",
         "Yorkville East",
         "Yellow Zone",
         4.204379562043796
        ],
        [
         262,
         229,
         1.98,
         4.0,
         14.76,
         0.5400000000000009,
         0.08547576761987995,
         0.08000000000000007,
         0.05678390176384998,
         "Manhattan",
         "Sutton Place/Turtle Bay North",
         "Yellow Zone",
         "Manhattan",
         "Yorkville East",
         "Yellow Zone",
         7.454545454545454
        ],
        [
         142,
         162,
         1.57,
         4.0,
         12.8,
         2.5,
         0.3957211463883324,
         0.32999999999999985,
         0.23423359477588088,
         "Manhattan",
         "Midtown East",
         "Yellow Zone",
         "Manhattan",
         "Lincoln Square East",
         "Yellow Zone",
         8.152866242038217
        ],
        [
         188,
         132,
         16.0,
         1.0,
         57.65,
         42.349999999999994,
         6.70351621981835,
         14.1,
         10.00816268587855,
         "Queens",
         "JFK Airport",
         "Airports",
         "Brooklyn",
         "Prospect-Lefferts Gardens",
         "Boro Zone",
         3.603125
        ],
        [
         226,
         237,
         2.65,
         1.0,
         13.8,
         1.5,
         0.23743268783299942,
         0.75,
         0.5323490790360931,
         "Manhattan",
         "Upper East Side South",
         "Yellow Zone",
         "Queens",
         "Sunnyside",
         "Boro Zone",
         5.207547169811321
        ],
        [
         113,
         100,
         1.8,
         1.0,
         12.8,
         2.5,
         0.3957211463883324,
         0.09999999999999987,
         0.07097987720481232,
         "Manhattan",
         "Garment District",
         "Yellow Zone",
         "Manhattan",
         "Greenwich Village North",
         "Yellow Zone",
         7.111111111111112
        ],
        [
         143,
         163,
         0.9,
         1.0,
         11.15,
         4.15,
         0.6568971030046318,
         0.9999999999999999,
         0.7097987720481241,
         "Manhattan",
         "Midtown North",
         "Yellow Zone",
         "Manhattan",
         "Lincoln Square West",
         "Yellow Zone",
         12.38888888888889
        ],
        [
         92,
         264,
         4.03,
         2.0,
         19.56,
         4.259999999999998,
         0.674308833445718,
         2.1300000000000003,
         1.5118713844625047,
         "Unknown",
         "NV",
         null,
         "Queens",
         "Flushing",
         "Boro Zone",
         4.853598014888337
        ],
        [
         92,
         138,
         3.8,
         1.0,
         16.05,
         0.75,
         0.11871634391649971,
         1.9,
         1.3486176668914358,
         "Queens",
         "LaGuardia Airport",
         "Airports",
         "Queens",
         "Flushing",
         "Boro Zone",
         4.223684210526316
        ],
        [
         42,
         132,
         23.57,
         5.0,
         63.1,
         47.8,
         7.566188318944914,
         21.67,
         15.381339390282852,
         "Queens",
         "JFK Airport",
         "Airports",
         "Manhattan",
         "Central Harlem North",
         "Boro Zone",
         2.677131947390751
        ],
        [
         263,
         140,
         0.58,
         3.0,
         9.36,
         5.940000000000001,
         0.9402334438186779,
         1.3199999999999998,
         0.9369343791035238,
         "Manhattan",
         "Lenox Hill East",
         "Yellow Zone",
         "Manhattan",
         "Yorkville West",
         "Yellow Zone",
         16.137931034482758
        ],
        [
         249,
         263,
         4.93,
         1.0,
         19.3,
         4.0,
         0.6331538342213318,
         3.03,
         2.1506902793058162,
         "Manhattan",
         "Yorkville West",
         "Yellow Zone",
         "Manhattan",
         "West Village",
         "Yellow Zone",
         3.9148073022312375
        ],
        [
         141,
         125,
         4.46,
         2.0,
         21.36,
         6.059999999999999,
         0.9592280588453175,
         2.56,
         1.8170848564431978,
         "Manhattan",
         "Hudson Sq",
         "Yellow Zone",
         "Manhattan",
         "Lenox Hill West",
         "Yellow Zone",
         4.789237668161435
        ],
        [
         264,
         264,
         1.72,
         2.0,
         12.3,
         3.0,
         0.47486537566599885,
         0.17999999999999994,
         0.1277637789686623,
         "Unknown",
         "NV",
         null,
         "Unknown",
         "NV",
         null,
         7.151162790697675
        ],
        [
         264,
         264,
         4.91,
         2.0,
         25.74,
         10.439999999999998,
         1.6525315073176756,
         3.0100000000000002,
         2.136494303864854,
         "Unknown",
         "NV",
         null,
         "Unknown",
         "NV",
         null,
         5.242362525458248
        ],
        [
         230,
         132,
         18.37,
         2.0,
         56.55,
         41.25,
         6.5293989154074845,
         16.470000000000002,
         11.690385775632606,
         "Queens",
         "JFK Airport",
         "Airports",
         "Manhattan",
         "Times Sq/Theatre District",
         "Yellow Zone",
         3.078388677191072
        ],
        [
         262,
         263,
         0.56,
         5.0,
         7.8,
         7.500000000000001,
         1.1871634391649972,
         1.3399999999999999,
         0.9511303545444862,
         "Manhattan",
         "Yorkville West",
         "Yellow Zone",
         "Manhattan",
         "Yorkville East",
         "Yellow Zone",
         13.928571428571427
        ],
        [
         72,
         132,
         12.11,
         1.0,
         46.01,
         30.709999999999997,
         4.861038562234275,
         10.209999999999999,
         7.247045462611347,
         "Queens",
         "JFK Airport",
         "Airports",
         "Brooklyn",
         "East Flatbush/Remsen Village",
         "Boro Zone",
         3.7993393889347646
        ],
        [
         90,
         79,
         1.78,
         2.0,
         16.56,
         1.259999999999998,
         0.1994434577797192,
         0.11999999999999988,
         0.08517585264577482,
         "Manhattan",
         "East Village",
         "Yellow Zone",
         "Manhattan",
         "Flatiron",
         "Yellow Zone",
         9.303370786516853
        ],
        [
         43,
         246,
         6.13,
         2.0,
         31.0,
         15.7,
         2.485128799318727,
         4.23,
         3.0024488057635654,
         "Manhattan",
         "West Chelsea/Hudson Yards",
         "Yellow Zone",
         "Manhattan",
         "Central Park",
         "Yellow Zone",
         5.057096247960849
        ],
        [
         42,
         239,
         3.22,
         2.0,
         15.8,
         0.5,
         0.07914422927766647,
         1.3200000000000003,
         0.9369343791035241,
         "Manhattan",
         "Upper West Side South",
         "Yellow Zone",
         "Manhattan",
         "Central Harlem North",
         "Boro Zone",
         4.906832298136646
        ],
        [
         146,
         137,
         3.6,
         2.0,
         17.8,
         2.5,
         0.3957211463883324,
         1.7000000000000002,
         1.2066579124818113,
         "Manhattan",
         "Kips Bay",
         "Yellow Zone",
         "Queens",
         "Long Island City/Queens Plaza",
         "Boro Zone",
         4.944444444444445
        ],
        [
         90,
         138,
         11.13,
         2.0,
         46.1,
         30.8,
         4.875284523504255,
         9.23,
         6.551442666004187,
         "Queens",
         "LaGuardia Airport",
         "Airports",
         "Manhattan",
         "Flatiron",
         "Yellow Zone",
         4.141958670260557
        ],
        [
         226,
         79,
         5.68,
         1.0,
         22.8,
         7.5,
         1.1871634391649972,
         3.78,
         2.683039358341909,
         "Manhattan",
         "East Village",
         "Yellow Zone",
         "Queens",
         "Sunnyside",
         "Boro Zone",
         4.014084507042254
        ],
        [
         151,
         43,
         1.0,
         1.0,
         8.16,
         7.140000000000001,
         1.1301795940850774,
         0.8999999999999999,
         0.6388188948433117,
         "Manhattan",
         "Central Park",
         "Yellow Zone",
         "Manhattan",
         "Manhattan Valley",
         "Yellow Zone",
         8.16
        ],
        [
         244,
         161,
         8.1,
         1.0,
         36.0,
         20.7,
         3.276571092095392,
         6.199999999999999,
         4.400752386698369,
         "Manhattan",
         "Midtown Center",
         "Yellow Zone",
         "Manhattan",
         "Washington Heights South",
         "Boro Zone",
         4.444444444444445
        ],
        [
         230,
         164,
         0.9,
         0.0,
         10.56,
         4.74,
         0.7502872935522782,
         0.9999999999999999,
         0.7097987720481241,
         "Manhattan",
         "Midtown South",
         "Yellow Zone",
         "Manhattan",
         "Times Sq/Theatre District",
         "Yellow Zone",
         11.733333333333334
        ],
        [
         239,
         48,
         1.8,
         0.0,
         13.8,
         1.5,
         0.23743268783299942,
         0.09999999999999987,
         0.07097987720481232,
         "Manhattan",
         "Clinton East",
         "Yellow Zone",
         "Manhattan",
         "Upper West Side South",
         "Yellow Zone",
         7.666666666666667
        ],
        [
         43,
         163,
         18.17,
         1.0,
         75.79,
         60.49000000000001,
         9.574868858012092,
         16.270000000000003,
         11.548426021222982,
         "Manhattan",
         "Midtown North",
         "Yellow Zone",
         "Manhattan",
         "Central Park",
         "Yellow Zone",
         4.1711612548156305
        ],
        [
         142,
         138,
         10.64,
         1.0,
         51.12,
         35.81999999999999,
         5.6698925854520255,
         8.74,
         6.203641267700605,
         "Queens",
         "LaGuardia Airport",
         "Airports",
         "Manhattan",
         "Lincoln Square East",
         "Yellow Zone",
         4.804511278195489
        ],
        [
         141,
         170,
         1.74,
         1.0,
         14.12,
         1.1800000000000015,
         0.18678038109529313,
         0.15999999999999992,
         0.11356780352769981,
         "Manhattan",
         "Murray Hill",
         "Yellow Zone",
         "Manhattan",
         "Lenox Hill West",
         "Yellow Zone",
         8.114942528735632
        ],
        [
         228,
         132,
         22.0,
         2.0,
         77.55,
         62.25,
         9.853456545069477,
         20.1,
         14.266955318167296,
         "Queens",
         "JFK Airport",
         "Airports",
         "Brooklyn",
         "Sunset Park West",
         "Boro Zone",
         3.525
        ],
        [
         113,
         132,
         17.99,
         1.0,
         75.72,
         60.42,
         9.563788665913217,
         16.09,
         11.420662242254318,
         "Queens",
         "JFK Airport",
         "Airports",
         "Manhattan",
         "Greenwich Village North",
         "Yellow Zone",
         4.209005002779322
        ],
        [
         74,
         246,
         5.4,
         1.0,
         26.16,
         10.86,
         1.7190126599109157,
         3.5000000000000004,
         2.484295702168435,
         "Manhattan",
         "West Chelsea/Hudson Yards",
         "Yellow Zone",
         "Manhattan",
         "East Harlem North",
         "Boro Zone",
         4.844444444444444
        ],
        [
         141,
         263,
         0.8,
         4.0,
         11.0,
         4.300000000000001,
         0.6806403717879318,
         1.0999999999999999,
         0.7807786492529365,
         "Manhattan",
         "Yorkville West",
         "Yellow Zone",
         "Manhattan",
         "Lenox Hill West",
         "Yellow Zone",
         13.75
        ],
        [
         74,
         141,
         2.1,
         1.0,
         11.8,
         3.5,
         0.5540096049436654,
         0.20000000000000018,
         0.14195975440962497,
         "Manhattan",
         "Lenox Hill West",
         "Yellow Zone",
         "Manhattan",
         "East Harlem North",
         "Boro Zone",
         5.6190476190476195
        ],
        [
         263,
         162,
         2.67,
         1.0,
         15.36,
         0.05999999999999872,
         0.009497307513319776,
         0.77,
         0.5465450544770556,
         "Manhattan",
         "Midtown East",
         "Yellow Zone",
         "Manhattan",
         "Yorkville West",
         "Yellow Zone",
         5.752808988764045
        ],
        [
         233,
         141,
         1.99,
         1.0,
         14.12,
         1.1800000000000015,
         0.18678038109529313,
         0.09000000000000008,
         0.06388188948433123,
         "Manhattan",
         "Lenox Hill West",
         "Yellow Zone",
         "Manhattan",
         "UN/Turtle Bay South",
         "Yellow Zone",
         7.0954773869346734
        ],
        [
         261,
         114,
         1.64,
         1.0,
         12.96,
         2.34,
         0.3703949930194791,
         0.26,
         0.1845476807325123,
         "Manhattan",
         "Greenwich Village South",
         "Yellow Zone",
         "Manhattan",
         "World Trade Center",
         "Yellow Zone",
         7.902439024390245
        ],
        [
         246,
         211,
         2.36,
         1.0,
         16.56,
         1.259999999999998,
         0.1994434577797192,
         0.45999999999999996,
         0.3265074351421371,
         "Manhattan",
         "SoHo",
         "Yellow Zone",
         "Manhattan",
         "West Chelsea/Hudson Yards",
         "Yellow Zone",
         7.016949152542373
        ],
        [
         79,
         246,
         2.27,
         1.0,
         16.56,
         1.259999999999998,
         0.1994434577797192,
         0.3700000000000001,
         0.262625545657806,
         "Manhattan",
         "West Chelsea/Hudson Yards",
         "Yellow Zone",
         "Manhattan",
         "East Village",
         "Yellow Zone",
         7.295154185022025
        ],
        [
         179,
         230,
         4.63,
         1.0,
         24.36,
         9.059999999999999,
         1.4340934345113163,
         2.73,
         1.937750647691379,
         "Manhattan",
         "Times Sq/Theatre District",
         "Yellow Zone",
         "Queens",
         "Old Astoria",
         "Boro Zone",
         5.2613390928725705
        ],
        [
         237,
         75,
         2.74,
         1.0,
         13.8,
         1.5,
         0.23743268783299942,
         0.8400000000000003,
         0.5962309685204246,
         "Manhattan",
         "East Harlem South",
         "Boro Zone",
         "Manhattan",
         "Upper East Side South",
         "Yellow Zone",
         5.036496350364963
        ],
        [
         107,
         137,
         0.69,
         1.0,
         10.0,
         5.300000000000001,
         0.8389288303432647,
         1.21,
         0.8588565141782302,
         "Manhattan",
         "Kips Bay",
         "Yellow Zone",
         "Manhattan",
         "Gramercy",
         "Yellow Zone",
         14.492753623188406
        ],
        [
         88,
         79,
         3.9,
         1.0,
         19.3,
         4.0,
         0.6331538342213318,
         2.0,
         1.4195975440962483,
         "Manhattan",
         "East Village",
         "Yellow Zone",
         "Manhattan",
         "Financial District South",
         "Yellow Zone",
         4.948717948717949
        ],
        [
         61,
         132,
         9.83,
         1.0,
         32.05,
         16.749999999999996,
         2.6513316808018264,
         7.93,
         5.628704262341625,
         "Queens",
         "JFK Airport",
         "Airports",
         "Brooklyn",
         "Crown Heights North",
         "Boro Zone",
         3.260427263479145
        ],
        [
         107,
         246,
         1.9,
         2.0,
         15.35,
         0.049999999999998934,
         0.007914422927766479,
         0.0,
         0.0,
         "Manhattan",
         "West Chelsea/Hudson Yards",
         "Yellow Zone",
         "Manhattan",
         "Gramercy",
         "Yellow Zone",
         8.078947368421053
        ],
        [
         161,
         170,
         1.2,
         2.0,
         10.3,
         5.0,
         0.7914422927766648,
         0.7,
         0.4968591404336869,
         "Manhattan",
         "Murray Hill",
         "Yellow Zone",
         "Manhattan",
         "Midtown Center",
         "Yellow Zone",
         8.583333333333334
        ],
        [
         48,
         13,
         4.2,
         1.0,
         21.95,
         6.649999999999999,
         1.052618249392964,
         2.3000000000000003,
         1.6325371757106857,
         "Manhattan",
         "Battery Park City",
         "Yellow Zone",
         "Manhattan",
         "Clinton East",
         "Yellow Zone",
         5.226190476190475
        ],
        [
         68,
         249,
         1.4,
         1.0,
         12.85,
         2.450000000000001,
         0.3878067234605659,
         0.5,
         0.35489938602406207,
         "Manhattan",
         "West Village",
         "Yellow Zone",
         "Manhattan",
         "East Chelsea",
         "Yellow Zone",
         9.178571428571429
        ],
        [
         4,
         48,
         3.11,
         2.0,
         20.76,
         5.460000000000001,
         0.8642549837121181,
         1.21,
         0.8588565141782302,
         "Manhattan",
         "Clinton East",
         "Yellow Zone",
         "Manhattan",
         "Alphabet City",
         "Yellow Zone",
         6.675241157556271
        ],
        [
         140,
         79,
         2.84,
         3.0,
         16.62,
         1.3200000000000003,
         0.20894076529303954,
         0.94,
         0.6672108457252367,
         "Manhattan",
         "East Village",
         "Yellow Zone",
         "Manhattan",
         "Lenox Hill East",
         "Yellow Zone",
         5.852112676056339
        ],
        [
         116,
         41,
         2.0,
         1.0,
         10.8,
         4.5,
         0.7122980634989983,
         0.10000000000000009,
         0.07097987720481248,
         "Manhattan",
         "Central Harlem",
         "Boro Zone",
         "Manhattan",
         "Hamilton Heights",
         "Boro Zone",
         5.4
        ],
        [
         151,
         116,
         2.0,
         1.0,
         14.3,
         1.0,
         0.15828845855533294,
         0.10000000000000009,
         0.07097987720481248,
         "Manhattan",
         "Hamilton Heights",
         "Boro Zone",
         "Manhattan",
         "Manhattan Valley",
         "Yellow Zone",
         7.15
        ]
       ],
       "datasetInfos": [],
       "dbfsResultPath": null,
       "isJsonSchema": true,
       "metadata": {},
       "overflow": false,
       "plotOptions": {
        "customPlotOptions": {},
        "displayType": "table",
        "pivotAggregation": null,
        "pivotColumns": null,
        "xColumns": null,
        "yColumns": null
       },
       "removedWidgets": [],
       "schema": [
        {
         "metadata": "{}",
         "name": "DOLocationID",
         "type": "\"long\""
        },
        {
         "metadata": "{}",
         "name": "PULocationID",
         "type": "\"long\""
        },
        {
         "metadata": "{}",
         "name": "trip_distance",
         "type": "\"double\""
        },
        {
         "metadata": "{}",
         "name": "passenger_count",
         "type": "\"double\""
        },
        {
         "metadata": "{}",
         "name": "total_amount",
         "type": "\"double\""
        },
        {
         "metadata": "{}",
         "name": "total_amount_xi",
         "type": "\"double\""
        },
        {
         "metadata": "{}",
         "name": "z_score_total_amount",
         "type": "\"double\""
        },
        {
         "metadata": "{}",
         "name": "trip_distance_xi",
         "type": "\"double\""
        },
        {
         "metadata": "{}",
         "name": "z_score_trip_distance",
         "type": "\"double\""
        },
        {
         "metadata": "{}",
         "name": "Borough",
         "type": "\"string\""
        },
        {
         "metadata": "{}",
         "name": "start_zone",
         "type": "\"string\""
        },
        {
         "metadata": "{}",
         "name": "service_zone",
         "type": "\"string\""
        },
        {
         "metadata": "{}",
         "name": "Borough",
         "type": "\"string\""
        },
        {
         "metadata": "{}",
         "name": "end_zone",
         "type": "\"string\""
        },
        {
         "metadata": "{}",
         "name": "service_zone",
         "type": "\"string\""
        },
        {
         "metadata": "{}",
         "name": "unit_profitability",
         "type": "\"double\""
        }
       ],
       "type": "table"
      }
     },
     "output_type": "display_data"
    }
   ],
   "source": [
    "# execute task 2.2\n",
    "trips_22 = t22_calc_profit(trips_21)\n",
    "\n",
    "print_count(trips_22)\n",
    "display(trips_22.take(100))"
   ]
  },
  {
   "cell_type": "markdown",
   "metadata": {
    "application/vnd.databricks.v1+cell": {
     "cellMetadata": {
      "byteLimit": 2048000,
      "rowLimit": 10000
     },
     "inputWidgets": {},
     "nuid": "93c4a6e7-512f-40a8-ad2c-41a84ade373f",
     "showTitle": false,
     "title": ""
    }
   },
   "source": [
    "## Task 3: Rank zones by traffic, passenger volume and profitability\n",
    "\n",
    "### 3.1 - Summarise interzonal travel\n",
    "\n",
    "Build a graph data structure of zone-to-zone traffic, representing aggregated data about trips between any two zones. The graph will have one node for each zone and one edge connecting each pair of zones. In addition, edges contain aggregate information about all trips between those zones. \n",
    "\n",
    "For example, zones Z1 and Z2 are connected by *two* edges: edge Z1 --> Z2 carries aggregate data about all trips that originated in Z1 and ended in Z2, and edge Z2 --> Z1 carries aggregate data about all trips that originated in Z2 and ended in Z1.\n",
    "\n",
    "The aggregate information of interzonal travel must include the following data:\n",
    "\n",
    "- `average_unit_profit` - the average unit profitability (calculated as `mean(unit_profitability)`).\n",
    "- `trips_count` -- the total number of recorded trips.\n",
    "- `total_passengers` -- the total number of passenger across all trips (sum of `passenger_count`).\n",
    "\n",
    "This graph can be represented as a new dataframe, with schema:\n",
    "\n",
    "\\[`PULocationID`, `DOLocationID`, `average_unit_profit`, `trips_count`, `total_passengers` \\]\n",
    "\n",
    "__hint__: the `groupby()` operator produces a `pyspark.sql.GroupedData` structure. You can then calculate multiple aggregations from this using `pyspark.sql.GroupedData.agg()`: \n",
    "- https://spark.apache.org/docs/3.2.0/api/python/reference/pyspark.pandas/api/pyspark.pandas.DataFrame.groupby.html\n",
    "- https://spark.apache.org/docs/3.2.0/api/python/reference/api/pyspark.sql.GroupedData.agg.html\n",
    "\n",
    "### Task 3.2 - Obtain top-10 zones\n",
    "\n",
    "For each of the following measures, report the top-10 zones _using their plain names you dereferenced in the previous step, not the codes_. Note that this requires ranking the nodes in different orders. Specifically, you need to calculate the following further aggregations:\n",
    "\n",
    "- the **total** number of trips originating from Z. This is simply the sum of `trips_count` over all outgoing edges for Z, i.e., edges of the form Z -> \\*\n",
    "- the **average** profitability of a zone. This is the average of all `average_unit_profit` over all *outgoing* edges from Z.\n",
    "- The **total** passenger volume measured as the **sum** of `total_passengers` carried in trips that originate from Z"
   ]
  },
  {
   "cell_type": "code",
   "execution_count": 0,
   "metadata": {
    "application/vnd.databricks.v1+cell": {
     "cellMetadata": {
      "byteLimit": 2048000,
      "rowLimit": 10000
     },
     "inputWidgets": {},
     "nuid": "069fc68b-acdd-47c2-be12-27d32b7916c8",
     "showTitle": false,
     "title": ""
    }
   },
   "outputs": [],
   "source": [
    "# develop your solution here (create/destroy cells as needed) and then implement it in the functions below"
   ]
  },
  {
   "cell_type": "code",
   "execution_count": 0,
   "metadata": {
    "application/vnd.databricks.v1+cell": {
     "cellMetadata": {
      "byteLimit": 2048000,
      "rowLimit": 10000
     },
     "inputWidgets": {},
     "nuid": "38084194-2635-46aa-ac74-93509c03a86e",
     "showTitle": false,
     "title": ""
    }
   },
   "outputs": [],
   "source": [
    "## Your solution to task 3.1 goes HERE\n",
    "from pyspark.sql.functions import mean, sum , count\n",
    "def t31_summarise_trips(df_new):\n",
    "    # input: output of task 2.2\n",
    "    grouped_data = df_new.groupby(\"PULocationID\", \"DOLocationID\")\n",
    "    # Aggregate data to calculate average unit profitability, trips count, and total passengers\n",
    "    aggregated_data = grouped_data.agg(\n",
    "    mean(\"unit_profitability\").alias(\"average_unit_profit\"),\n",
    "    sum(\"passenger_count\").alias(\"total_passengers\"),\n",
    "    count(\"*\"). alias(\"trips_count\")\n",
    ")\n",
    "\n",
    "# Create a new DataFrame with the aggregated information\n",
    "    df_new = aggregated_data.select(\n",
    "    \"PULocationID\",\n",
    "    \"DOLocationID\",\n",
    "    \"average_unit_profit\",\n",
    "    \"trips_count\",\n",
    "    \"total_passengers\"\n",
    ")\n",
    "\n",
    "# Show the resulting DataFrame\n",
    "    df_new.show()\n",
    "\n",
    "    return df_new"
   ]
  },
  {
   "cell_type": "code",
   "execution_count": 0,
   "metadata": {
    "application/vnd.databricks.v1+cell": {
     "cellMetadata": {
      "byteLimit": 2048000,
      "rowLimit": 10000
     },
     "inputWidgets": {},
     "nuid": "b81c74ad-e5f1-4b69-a320-bdf375b94e8d",
     "showTitle": false,
     "title": ""
    }
   },
   "outputs": [
    {
     "output_type": "stream",
     "name": "stdout",
     "output_type": "stream",
     "text": [
      "+------------+------------+-------------------+-----------+----------------+\n|PULocationID|DOLocationID|average_unit_profit|trips_count|total_passengers|\n+------------+------------+-------------------+-----------+----------------+\n|          97|          29| 3.3008819056842604|          3|             3.0|\n|         161|          29| 3.4599615427882955|          6|             6.0|\n|         132|          26| 2.9664356587202683|        253|           412.0|\n|         132|          29| 3.1044577420063386|        168|           243.0|\n|         137|          26|  4.132075380450283|         27|            37.0|\n|         213|          29| 2.9749504372386073|          2|             3.0|\n|         228|          26|   7.41471058428216|          8|             2.0|\n|         108|          26|  4.812733426704014|          2|             2.0|\n|         236|          26| 3.8505210918536403|         11|            17.0|\n|          79|          29|  3.275157759773647|          9|            11.0|\n|         163|          26|  4.114338856450192|         11|            12.0|\n|         161|          26|  3.871971149682343|         24|            20.0|\n|         107|          26|  3.719433739972424|          9|             5.0|\n|          25|          26|  4.722645989088705|          2|             3.0|\n|          21|          29|  7.742119414102729|         10|             2.0|\n|         100|          29| 3.5756371461154304|          5|             6.0|\n|         249|          26|   4.34995341251689|         12|            21.0|\n|         193|          29| 3.3267812620243244|          4|             3.0|\n|         170|          29|  3.291718892201639|          9|            10.0|\n|         100|          26|  4.321652407758243|          8|            17.0|\n+------------+------------+-------------------+-----------+----------------+\nonly showing top 20 rows\n\nRow count: 31,848\n"
     ]
    },
    {
     "output_type": "display_data",
     "data": {
      "text/html": [
       "<style scoped>\n",
       "  .table-result-container {\n",
       "    max-height: 300px;\n",
       "    overflow: auto;\n",
       "  }\n",
       "  table, th, td {\n",
       "    border: 1px solid black;\n",
       "    border-collapse: collapse;\n",
       "  }\n",
       "  th, td {\n",
       "    padding: 5px;\n",
       "  }\n",
       "  th {\n",
       "    text-align: left;\n",
       "  }\n",
       "</style><div class='table-result-container'><table class='table-result'><thead style='background-color: white'><tr><th>PULocationID</th><th>DOLocationID</th><th>average_unit_profit</th><th>trips_count</th><th>total_passengers</th></tr></thead><tbody><tr><td>97</td><td>29</td><td>3.3008819056842604</td><td>3</td><td>3.0</td></tr><tr><td>161</td><td>29</td><td>3.4599615427882955</td><td>6</td><td>6.0</td></tr><tr><td>132</td><td>26</td><td>2.9664356587202683</td><td>253</td><td>412.0</td></tr><tr><td>132</td><td>29</td><td>3.1044577420063386</td><td>168</td><td>243.0</td></tr><tr><td>137</td><td>26</td><td>4.132075380450283</td><td>27</td><td>37.0</td></tr><tr><td>213</td><td>29</td><td>2.9749504372386073</td><td>2</td><td>3.0</td></tr><tr><td>228</td><td>26</td><td>7.41471058428216</td><td>8</td><td>2.0</td></tr><tr><td>108</td><td>26</td><td>4.812733426704014</td><td>2</td><td>2.0</td></tr><tr><td>236</td><td>26</td><td>3.8505210918536403</td><td>11</td><td>17.0</td></tr><tr><td>79</td><td>29</td><td>3.275157759773647</td><td>9</td><td>11.0</td></tr></tbody></table></div>"
      ]
     },
     "metadata": {
      "application/vnd.databricks.v1+output": {
       "addedWidgets": {},
       "aggData": [],
       "aggError": "",
       "aggOverflow": false,
       "aggSchema": [],
       "aggSeriesLimitReached": false,
       "aggType": "",
       "arguments": {},
       "columnCustomDisplayInfos": {},
       "data": [
        [
         97,
         29,
         3.3008819056842604,
         3,
         3.0
        ],
        [
         161,
         29,
         3.4599615427882955,
         6,
         6.0
        ],
        [
         132,
         26,
         2.9664356587202683,
         253,
         412.0
        ],
        [
         132,
         29,
         3.1044577420063386,
         168,
         243.0
        ],
        [
         137,
         26,
         4.132075380450283,
         27,
         37.0
        ],
        [
         213,
         29,
         2.9749504372386073,
         2,
         3.0
        ],
        [
         228,
         26,
         7.41471058428216,
         8,
         2.0
        ],
        [
         108,
         26,
         4.812733426704014,
         2,
         2.0
        ],
        [
         236,
         26,
         3.8505210918536403,
         11,
         17.0
        ],
        [
         79,
         29,
         3.275157759773647,
         9,
         11.0
        ]
       ],
       "datasetInfos": [],
       "dbfsResultPath": null,
       "isJsonSchema": true,
       "metadata": {},
       "overflow": false,
       "plotOptions": {
        "customPlotOptions": {},
        "displayType": "table",
        "pivotAggregation": null,
        "pivotColumns": null,
        "xColumns": null,
        "yColumns": null
       },
       "removedWidgets": [],
       "schema": [
        {
         "metadata": "{}",
         "name": "PULocationID",
         "type": "\"long\""
        },
        {
         "metadata": "{}",
         "name": "DOLocationID",
         "type": "\"long\""
        },
        {
         "metadata": "{}",
         "name": "average_unit_profit",
         "type": "\"double\""
        },
        {
         "metadata": "{}",
         "name": "trips_count",
         "type": "\"long\""
        },
        {
         "metadata": "{}",
         "name": "total_passengers",
         "type": "\"double\""
        }
       ],
       "type": "table"
      }
     },
     "output_type": "display_data"
    }
   ],
   "source": [
    "# execute task 3.1\n",
    "graph = t31_summarise_trips(trips_22)\n",
    "\n",
    "print_count(graph)\n",
    "display(graph.take(10))"
   ]
  },
  {
   "cell_type": "code",
   "execution_count": 0,
   "metadata": {
    "application/vnd.databricks.v1+cell": {
     "cellMetadata": {
      "byteLimit": 2048000,
      "rowLimit": 10000
     },
     "inputWidgets": {},
     "nuid": "c285cd2d-861b-4790-8fe8-4b4b6cdbc8f4",
     "showTitle": false,
     "title": ""
    }
   },
   "outputs": [],
   "source": [
    "# Your solution to task 3.2 goes HERE (implement each of the functions below)\n",
    "from pyspark.sql.functions import desc\n",
    "import time\n",
    "\n",
    "def t32_summarise_zones_pairs(df_new, zones_df = zone_names):\n",
    "    df_with_names = df_new.join(zones_df, df_new.PULocationID == zones_df.LocationID, \"left\") \\\n",
    "                      .withColumnRenamed(\"ZoneName\", \"PULocationName\") \\\n",
    "                      .drop(\"LocationID\") \\\n",
    "                      .join(zones_df, df_new.DOLocationID == zones_df.LocationID, \"left\") \\\n",
    "                      .withColumnRenamed(\"ZoneName\", \"DOLocationName\") \\\n",
    "                      .drop(\"LocationID\")\n",
    "    return df_with_names\n",
    "\n",
    "# Top 10 ranked zones by traffic (trip volume)\n",
    "def t32_top10_trips(df_zones):\n",
    "    top_10_trips = df_zones.groupBy(\"PULocationID\") \\\n",
    "                           .agg({\"trips_count\": \"sum\"}) \\\n",
    "                           .withColumnRenamed(\"sum(trips_count)\", \"total_trips_count\") \\\n",
    "                           .orderBy(desc(\"total_trips_count\")) \\\n",
    "                           .limit(10)\n",
    "    return top_10_trips\n",
    "\n",
    "# Top 10 ranked zones by profit\n",
    "def t32_top10_profit(df_zones):\n",
    "    top_10_profit = df_zones.groupBy(\"PULocationID\") \\\n",
    "                             .agg({\"average_unit_profit\": \"avg\"}) \\\n",
    "                             .withColumnRenamed(\"avg(average_unit_profit)\", \"average_profitability\") \\\n",
    "                             .orderBy(desc(\"average_profitability\")) \\\n",
    "                             .limit(10)\n",
    "    return top_10_profit\n",
    "\n",
    "# Top 10 ranked zones by passenger volume\n",
    "def t32_top10_passenger(df_zones):\n",
    "    top_10_passenger = df_zones.groupBy(\"PULocationID\") \\\n",
    "                                .agg({\"total_passengers\": \"sum\"}) \\\n",
    "                                .withColumnRenamed(\"sum(total_passengers)\", \"total_passenger_volume\") \\\n",
    "                                .orderBy(desc(\"total_passenger_volume\")) \\\n",
    "                                .limit(10)\n",
    "    return top_10_passenger\n"
   ]
  },
  {
   "cell_type": "code",
   "execution_count": 0,
   "metadata": {
    "application/vnd.databricks.v1+cell": {
     "cellMetadata": {
      "byteLimit": 2048000,
      "rowLimit": 10000
     },
     "inputWidgets": {},
     "nuid": "0bb32624-cca2-461e-816d-c49ecc98374e",
     "showTitle": false,
     "title": ""
    }
   },
   "outputs": [],
   "source": [
    "# execute task 3.2\n",
    "zones = t32_summarise_zones_pairs(graph)\n",
    "\n",
    "top10_trips     = t32_top10_trips(zones)\n",
    "top10_profit    = t32_top10_profit(zones)\n",
    "top10_passenger = t32_top10_passenger(zones)"
   ]
  },
  {
   "cell_type": "code",
   "execution_count": 0,
   "metadata": {
    "application/vnd.databricks.v1+cell": {
     "cellMetadata": {
      "byteLimit": 2048000,
      "rowLimit": 10000
     },
     "inputWidgets": {},
     "nuid": "382adcca-e15c-45d2-88bf-6ae97b8c6e30",
     "showTitle": false,
     "title": ""
    }
   },
   "outputs": [
    {
     "output_type": "display_data",
     "data": {
      "text/html": [
       "<style scoped>\n",
       "  .table-result-container {\n",
       "    max-height: 300px;\n",
       "    overflow: auto;\n",
       "  }\n",
       "  table, th, td {\n",
       "    border: 1px solid black;\n",
       "    border-collapse: collapse;\n",
       "  }\n",
       "  th, td {\n",
       "    padding: 5px;\n",
       "  }\n",
       "  th {\n",
       "    text-align: left;\n",
       "  }\n",
       "</style><div class='table-result-container'><table class='table-result'><thead style='background-color: white'><tr><th>PULocationID</th><th>total_trips_count</th></tr></thead><tbody><tr><td>237</td><td>126262</td></tr><tr><td>236</td><td>108539</td></tr><tr><td>132</td><td>106127</td></tr><tr><td>186</td><td>102196</td></tr><tr><td>161</td><td>98102</td></tr><tr><td>170</td><td>93217</td></tr><tr><td>162</td><td>89669</td></tr><tr><td>142</td><td>84331</td></tr><tr><td>48</td><td>80006</td></tr><tr><td>239</td><td>78287</td></tr></tbody></table></div>"
      ]
     },
     "metadata": {
      "application/vnd.databricks.v1+output": {
       "addedWidgets": {},
       "aggData": [],
       "aggError": "",
       "aggOverflow": false,
       "aggSchema": [],
       "aggSeriesLimitReached": false,
       "aggType": "",
       "arguments": {},
       "columnCustomDisplayInfos": {},
       "data": [
        [
         237,
         126262
        ],
        [
         236,
         108539
        ],
        [
         132,
         106127
        ],
        [
         186,
         102196
        ],
        [
         161,
         98102
        ],
        [
         170,
         93217
        ],
        [
         162,
         89669
        ],
        [
         142,
         84331
        ],
        [
         48,
         80006
        ],
        [
         239,
         78287
        ]
       ],
       "datasetInfos": [],
       "dbfsResultPath": null,
       "isJsonSchema": true,
       "metadata": {},
       "overflow": false,
       "plotOptions": {
        "customPlotOptions": {},
        "displayType": "table",
        "pivotAggregation": null,
        "pivotColumns": null,
        "xColumns": null,
        "yColumns": null
       },
       "removedWidgets": [],
       "schema": [
        {
         "metadata": "{}",
         "name": "PULocationID",
         "type": "\"long\""
        },
        {
         "metadata": "{}",
         "name": "total_trips_count",
         "type": "\"long\""
        }
       ],
       "type": "table"
      }
     },
     "output_type": "display_data"
    }
   ],
   "source": [
    "# use 'display()' or return a pandas DataFrame for 'pretty' output\n",
    "display(top10_trips)"
   ]
  },
  {
   "cell_type": "code",
   "execution_count": 0,
   "metadata": {
    "application/vnd.databricks.v1+cell": {
     "cellMetadata": {
      "byteLimit": 2048000,
      "rowLimit": 10000
     },
     "inputWidgets": {},
     "nuid": "847abfd1-7424-43c0-976e-5c615736a56b",
     "showTitle": false,
     "title": ""
    }
   },
   "outputs": [
    {
     "output_type": "display_data",
     "data": {
      "text/html": [
       "<style scoped>\n",
       "  .table-result-container {\n",
       "    max-height: 300px;\n",
       "    overflow: auto;\n",
       "  }\n",
       "  table, th, td {\n",
       "    border: 1px solid black;\n",
       "    border-collapse: collapse;\n",
       "  }\n",
       "  th, td {\n",
       "    padding: 5px;\n",
       "  }\n",
       "  th {\n",
       "    text-align: left;\n",
       "  }\n",
       "</style><div class='table-result-container'><table class='table-result'><thead style='background-color: white'><tr><th>PULocationID</th><th>average_profitability</th></tr></thead><tbody><tr><td>190</td><td>62.270386890662884</td></tr><tr><td>15</td><td>24.136390098078515</td></tr><tr><td>241</td><td>20.85511049829426</td></tr><tr><td>59</td><td>20.23633830399885</td></tr><tr><td>192</td><td>18.035490133924135</td></tr><tr><td>207</td><td>17.256668502562587</td></tr><tr><td>10</td><td>13.870876308735046</td></tr><tr><td>128</td><td>13.439850756388974</td></tr><tr><td>81</td><td>11.21790620709023</td></tr><tr><td>168</td><td>10.919701733371339</td></tr></tbody></table></div>"
      ]
     },
     "metadata": {
      "application/vnd.databricks.v1+output": {
       "addedWidgets": {},
       "aggData": [],
       "aggError": "",
       "aggOverflow": false,
       "aggSchema": [],
       "aggSeriesLimitReached": false,
       "aggType": "",
       "arguments": {},
       "columnCustomDisplayInfos": {},
       "data": [
        [
         190,
         62.270386890662884
        ],
        [
         15,
         24.136390098078515
        ],
        [
         241,
         20.85511049829426
        ],
        [
         59,
         20.23633830399885
        ],
        [
         192,
         18.035490133924135
        ],
        [
         207,
         17.256668502562587
        ],
        [
         10,
         13.870876308735046
        ],
        [
         128,
         13.439850756388974
        ],
        [
         81,
         11.21790620709023
        ],
        [
         168,
         10.919701733371339
        ]
       ],
       "datasetInfos": [],
       "dbfsResultPath": null,
       "isJsonSchema": true,
       "metadata": {},
       "overflow": false,
       "plotOptions": {
        "customPlotOptions": {},
        "displayType": "table",
        "pivotAggregation": null,
        "pivotColumns": null,
        "xColumns": null,
        "yColumns": null
       },
       "removedWidgets": [],
       "schema": [
        {
         "metadata": "{}",
         "name": "PULocationID",
         "type": "\"long\""
        },
        {
         "metadata": "{}",
         "name": "average_profitability",
         "type": "\"double\""
        }
       ],
       "type": "table"
      }
     },
     "output_type": "display_data"
    }
   ],
   "source": [
    "# use 'display()' return a pandas DataFrame for 'pretty' output\n",
    "display(top10_profit)"
   ]
  },
  {
   "cell_type": "code",
   "execution_count": 0,
   "metadata": {
    "application/vnd.databricks.v1+cell": {
     "cellMetadata": {
      "byteLimit": 2048000,
      "rowLimit": 10000
     },
     "inputWidgets": {},
     "nuid": "90eb7561-5775-4e6a-8317-473f311e4cfe",
     "showTitle": false,
     "title": ""
    }
   },
   "outputs": [
    {
     "output_type": "display_data",
     "data": {
      "text/html": [
       "<style scoped>\n",
       "  .table-result-container {\n",
       "    max-height: 300px;\n",
       "    overflow: auto;\n",
       "  }\n",
       "  table, th, td {\n",
       "    border: 1px solid black;\n",
       "    border-collapse: collapse;\n",
       "  }\n",
       "  th, td {\n",
       "    padding: 5px;\n",
       "  }\n",
       "  th {\n",
       "    text-align: left;\n",
       "  }\n",
       "</style><div class='table-result-container'><table class='table-result'><thead style='background-color: white'><tr><th>PULocationID</th><th>total_passenger_volume</th></tr></thead><tbody><tr><td>237</td><td>175915.0</td></tr><tr><td>132</td><td>165301.0</td></tr><tr><td>236</td><td>150392.0</td></tr><tr><td>186</td><td>144805.0</td></tr><tr><td>161</td><td>141128.0</td></tr><tr><td>170</td><td>129657.0</td></tr><tr><td>162</td><td>125970.0</td></tr><tr><td>142</td><td>119147.0</td></tr><tr><td>48</td><td>114519.0</td></tr><tr><td>79</td><td>110808.0</td></tr></tbody></table></div>"
      ]
     },
     "metadata": {
      "application/vnd.databricks.v1+output": {
       "addedWidgets": {},
       "aggData": [],
       "aggError": "",
       "aggOverflow": false,
       "aggSchema": [],
       "aggSeriesLimitReached": false,
       "aggType": "",
       "arguments": {},
       "columnCustomDisplayInfos": {},
       "data": [
        [
         237,
         175915.0
        ],
        [
         132,
         165301.0
        ],
        [
         236,
         150392.0
        ],
        [
         186,
         144805.0
        ],
        [
         161,
         141128.0
        ],
        [
         170,
         129657.0
        ],
        [
         162,
         125970.0
        ],
        [
         142,
         119147.0
        ],
        [
         48,
         114519.0
        ],
        [
         79,
         110808.0
        ]
       ],
       "datasetInfos": [],
       "dbfsResultPath": null,
       "isJsonSchema": true,
       "metadata": {},
       "overflow": false,
       "plotOptions": {
        "customPlotOptions": {},
        "displayType": "table",
        "pivotAggregation": null,
        "pivotColumns": null,
        "xColumns": null,
        "yColumns": null
       },
       "removedWidgets": [],
       "schema": [
        {
         "metadata": "{}",
         "name": "PULocationID",
         "type": "\"long\""
        },
        {
         "metadata": "{}",
         "name": "total_passenger_volume",
         "type": "\"double\""
        }
       ],
       "type": "table"
      }
     },
     "output_type": "display_data"
    }
   ],
   "source": [
    "# use 'display()' or return a pandas DataFrame for 'pretty' output\n",
    "display(top10_passenger)"
   ]
  },
  {
   "cell_type": "markdown",
   "metadata": {
    "application/vnd.databricks.v1+cell": {
     "cellMetadata": {
      "byteLimit": 2048000,
      "rowLimit": 10000
     },
     "inputWidgets": {},
     "nuid": "7b950c5e-b7fd-405e-a0ba-0fe9c2752678",
     "showTitle": false,
     "title": ""
    }
   },
   "source": [
    "## Task 4 - Record the pipeline's execution time\n",
    "\n",
    "Record the execution time of:\n",
    "\n",
    "1. the whole pipeline\n",
    "2. the whole pipeline except task 1.2\n",
    "\n",
    "on the two tables below, for all dataset sizes: `'S'`, `'M'`, `'L'`, `'XL'`, `'XXL'`, and data formats: `parquet` and `delta`.\n",
    "\n",
    "Analyse the resulting execution times and comment on the effect of dataset size, dataset format and task complexity (with and without task 1.2) on pipeline performance."
   ]
  },
  {
   "cell_type": "code",
   "execution_count": 0,
   "metadata": {
    "application/vnd.databricks.v1+cell": {
     "cellMetadata": {
      "byteLimit": 2048000,
      "rowLimit": 10000
     },
     "inputWidgets": {},
     "nuid": "a0e68e8c-4de9-4e04-9de0-f36e24b10f7a",
     "showTitle": false,
     "title": ""
    }
   },
   "outputs": [
    {
     "output_type": "stream",
     "name": "stdout",
     "output_type": "stream",
     "text": [
      "\n    Trips dataset loaded!\n    ---\n      Size: S\n      Format: delta\n      Tables loaded: /FileStore/tables/taxi/delta/taxi-S-delta/\n      Number of trips (dataset rows): 2,898,033\n    \n"
     ]
    }
   ],
   "source": [
    "# CHANGE the value of the following arguments to record the pipeline execution times for increasing dataset sizes\n",
    "SIZE = 'S'\n",
    "DATA_FORMAT = 'delta'\n",
    "WITH_TASK_12 = True\n",
    "\n",
    "# Load trips dataset\n",
    "trips = init_trips(SIZE, DATA_FORMAT)"
   ]
  },
  {
   "cell_type": "code",
   "execution_count": 0,
   "metadata": {
    "application/vnd.databricks.v1+cell": {
     "cellMetadata": {
      "byteLimit": 2048000,
      "rowLimit": 10000
     },
     "inputWidgets": {},
     "nuid": "68681494-9d89-4706-908d-c5545444e8ca",
     "showTitle": false,
     "title": ""
    }
   },
   "outputs": [
    {
     "output_type": "stream",
     "name": "stdout",
     "output_type": "stream",
     "text": [
      "Median value for Total amount: 15.3\nMAD value for Total amount: 6.317579999999998\nMAD value for Trip distance: 1.4088500000000004\nMedian value for Trip distance: 1.9\n+------------+------------+-------------------+-----------+----------------+\n|PULocationID|DOLocationID|average_unit_profit|trips_count|total_passengers|\n+------------+------------+-------------------+-----------+----------------+\n|          97|          29| 3.3008819056842604|          3|             3.0|\n|         161|          29| 3.4599615427882955|          6|             6.0|\n|         132|          26| 2.9664356587202683|        253|           412.0|\n|         132|          29| 3.1044577420063386|        168|           243.0|\n|         137|          26|  4.132075380450283|         27|            37.0|\n|         213|          29| 2.9749504372386073|          2|             3.0|\n|         228|          26|   7.41471058428216|          8|             2.0|\n|         108|          26|  4.812733426704014|          2|             2.0|\n|         236|          26| 3.8505210918536403|         11|            17.0|\n|          79|          29|  3.275157759773647|          9|            11.0|\n|         163|          26|  4.114338856450192|         11|            12.0|\n|         161|          26|  3.871971149682343|         24|            20.0|\n|         107|          26|  3.719433739972424|          9|             5.0|\n|          25|          26|  4.722645989088705|          2|             3.0|\n|          21|          29|  7.742119414102729|         10|             2.0|\n|         100|          29| 3.5756371461154304|          5|             6.0|\n|         249|          26|   4.34995341251689|         12|            21.0|\n|         193|          29| 3.3267812620243244|          4|             3.0|\n|         170|          29|  3.291718892201639|          9|            10.0|\n|         100|          26|  4.321652407758243|          8|            17.0|\n+------------+------------+-------------------+-----------+----------------+\nonly showing top 20 rows\n\n"
     ]
    },
    {
     "output_type": "execute_result",
     "data": {
      "text/plain": [
       "[DataFrame[PULocationID: bigint, total_trips_count: bigint],\n",
       " DataFrame[PULocationID: bigint, average_profitability: double],\n",
       " DataFrame[PULocationID: bigint, total_passenger_volume: double]]"
      ]
     },
     "execution_count": 28,
     "metadata": {},
     "output_type": "execute_result"
    }
   ],
   "source": [
    "# run and record the resulting execution time shown by databricks (on the cell footer)\n",
    "\n",
    "# IMPORTANT: this function calls all task functions in order of occurrence. For this code to run without errors, you have to load into memory all of the previous task-specific functions, even if you haven't implemented these yet.\n",
    "pipeline(trips, with_task_12 = WITH_TASK_12)"
   ]
  },
  {
   "cell_type": "markdown",
   "metadata": {
    "application/vnd.databricks.v1+cell": {
     "cellMetadata": {
      "byteLimit": 2048000,
      "rowLimit": 10000
     },
     "inputWidgets": {},
     "nuid": "08018100-ac87-4801-94fc-c9fec3dc6a66",
     "showTitle": false,
     "title": ""
    }
   },
   "source": [
    "_Table 1. Pipeline performance for `parquet` format._\n",
    "\n",
    "| metric                      | S    | M    | L    | XL   | XXL  |\n",
    "|-----------------------------|------|------|------|------|------|\n",
    "| rows (M)                    |2,898,033|15,571,166|41,953,716|90,443,069|132,396,785|\n",
    "| execution time   (w/o 1.2)  |2.61s|4.43s|7.14s|8.37s|11.40s|\n",
    "| execution time              |8.70s|20.05s|23.91s|2.43 Min|3.23 Min|\n",
    "| sec / 1M records (w/o 1.2)  |0.000901|0.000284|0.000170|0.000093|0.000086|\n",
    "| sec / 1M records            |0.0030|0.0013|0.0006|0.0007|0.0008|"
   ]
  },
  {
   "cell_type": "markdown",
   "metadata": {
    "application/vnd.databricks.v1+cell": {
     "cellMetadata": {
      "byteLimit": 2048000,
      "rowLimit": 10000
     },
     "inputWidgets": {},
     "nuid": "e565c658-ba51-45cc-a617-227d6befb6dc",
     "showTitle": false,
     "title": ""
    }
   },
   "source": [
    "_Table 2. Pipeline performance for `delta` format._\n",
    "\n",
    "| metric                      | S    | M    | L    | XL   | XXL  |\n",
    "|-----------------------------|------|------|------|------|------|\n",
    "| rows (M)                    |2,898,033|15,571,166|41,953,716|90,443,069|132,396,785|\n",
    "| execution time   (w/o 1.2)  |1.31s|1.80s|2.67s|3.54s|6.74s|\n",
    "| execution time              |2.27s|5.83s|15.46s|15.81s|21.16s|\n",
    "| sec / 1M records (w/o 1.2)  |0.000452  |0.000115  |0.000064  |0.000039  |0.000051  |\n",
    "| sec / 1M records            |0.000783  |0.000374  |0.000369  |0.000175  |0.000160  |"
   ]
  },
  {
   "cell_type": "markdown",
   "metadata": {
    "application/vnd.databricks.v1+cell": {
     "cellMetadata": {
      "byteLimit": 2048000,
      "rowLimit": 10000
     },
     "inputWidgets": {},
     "nuid": "ff08b383-f2cd-4cbd-bd39-275060c92530",
     "showTitle": false,
     "title": ""
    }
   },
   "source": [
    "The execution time of the pipeline increases notably as the dataset size grows from small (S) to extra-extra-large (XXL).This exponential increase in execution time suggests that the pipeline's performance is significantly impacted by the size of the dataset.\n",
    "\n",
    "Examining the \"sec / 1M records\" metrics reveals interesting insights into the efficiency of the pipeline. Despite the increase in execution time with dataset size, the time taken per million records decreases. This implies that although larger datasets require more processing time overall, the processing time per individual record decreases as the dataset size increases. This phenomenon suggests potential optimizations or scalability features within the pipeline that enhance efficiency as the dataset size grows."
   ]
  }
 ],
 "metadata": {
  "application/vnd.databricks.v1+notebook": {
   "dashboards": [],
   "language": "python",
   "notebookMetadata": {
    "pythonIndentUnit": 4
   },
   "notebookName": "CSC8101-spark-coursework",
   "widgets": {}
  },
  "language_info": {
   "name": "plaintext"
  }
 },
 "nbformat": 4,
 "nbformat_minor": 0
}
